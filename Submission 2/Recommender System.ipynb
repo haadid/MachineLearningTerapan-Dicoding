{
 "cells": [
  {
   "cell_type": "markdown",
   "metadata": {
    "collapsed": false,
    "jupyter": {
     "outputs_hidden": false
    }
   },
   "source": [
    "# Sistem Rekomendasi : <span style=\"font-weight:normal\">Rekomendasi Ponsel Seluler</span>\n",
    "---"
   ]
  },
  {
   "cell_type": "markdown",
   "metadata": {
    "collapsed": false,
    "jupyter": {
     "outputs_hidden": false
    }
   },
   "source": [
    "Proyek Submission 2 - Machine Learning Terapan\n",
    "\n",
    "Oleh : Marwan Hadid"
   ]
  },
  {
   "cell_type": "markdown",
   "metadata": {
    "collapsed": false,
    "jupyter": {
     "outputs_hidden": false
    }
   },
   "source": [
    "# Pendahuluan"
   ]
  },
  {
   "cell_type": "markdown",
   "metadata": {
    "collapsed": false,
    "jupyter": {
     "outputs_hidden": false
    }
   },
   "source": [
    "Dataset ini merupakan kumpulan data ponsel seluler (cell phone) yang paling populer di Amerika Serikat pada tahun 2022. Dataset ini terdiri dari tiga berkas csv yang nantinya akan dibentuk menjadi sistem rekomendasi."
   ]
  },
  {
   "cell_type": "markdown",
   "metadata": {
    "collapsed": false,
    "jupyter": {
     "outputs_hidden": false
    }
   },
   "source": [
    "# Mengimport Library"
   ]
  },
  {
   "cell_type": "code",
   "execution_count": 1,
   "metadata": {
    "collapsed": false,
    "jupyter": {
     "outputs_hidden": false
    },
    "ExecuteTime": {
     "end_time": "2023-11-25T03:34:10.318132800Z",
     "start_time": "2023-11-25T03:34:05.506886600Z"
    }
   },
   "outputs": [],
   "source": [
    "import numpy as np\n",
    "import pandas as pd\n",
    "import matplotlib.pyplot as plt\n",
    "\n",
    "from wordcloud import WordCloud\n",
    "from sklearn.metrics.pairwise import cosine_similarity\n",
    "from sklearn.neighbors import NearestNeighbors\n",
    "from sklearn.feature_extraction.text import CountVectorizer\n",
    "\n",
    "import tensorflow as tf"
   ]
  },
  {
   "cell_type": "markdown",
   "metadata": {
    "collapsed": false,
    "jupyter": {
     "outputs_hidden": false
    }
   },
   "source": [
    "# Data Understanding"
   ]
  },
  {
   "cell_type": "code",
   "execution_count": 2,
   "metadata": {
    "collapsed": false,
    "jupyter": {
     "outputs_hidden": false
    },
    "ExecuteTime": {
     "end_time": "2023-11-25T03:34:10.369125200Z",
     "start_time": "2023-11-25T03:34:10.319133100Z"
    }
   },
   "outputs": [],
   "source": [
    "# Membaca dataset\n",
    "\n",
    "data_file = 'cellphones data.csv'\n",
    "rating_file = 'cellphones ratings.csv'\n",
    "user_file = 'cellphones users.csv'\n",
    "\n",
    "cellphone_df = pd.read_csv(data_file)\n",
    "rating_df = pd.read_csv(rating_file)\n",
    "user_df = pd.read_csv(user_file)"
   ]
  },
  {
   "cell_type": "code",
   "execution_count": 3,
   "metadata": {
    "collapsed": true,
    "jupyter": {
     "outputs_hidden": true
    },
    "ExecuteTime": {
     "end_time": "2023-11-25T03:34:10.416123500Z",
     "start_time": "2023-11-25T03:34:10.353617600Z"
    }
   },
   "outputs": [
    {
     "data": {
      "text/plain": "   cellphone_id  brand              model operating system  internal memory  \\\n0             0  Apple   iPhone SE (2022)              iOS              128   \n1             1  Apple     iPhone 13 Mini              iOS              128   \n2             2  Apple          iPhone 13              iOS              128   \n3             3  Apple      iPhone 13 Pro              iOS              256   \n4             4  Apple  iPhone 13 Pro Max              iOS              256   \n\n   RAM  performance  main camera  selfie camera  battery size  screen size  \\\n0    4         7.23           12              7          2018          4.7   \n1    4         7.72           12             12          2438          5.4   \n2    4         7.75           12             12          3240          6.1   \n3    6         7.94           12             12          3065          6.1   \n4    6         8.01           12             12          4352          6.7   \n\n   weight  price release date  \n0     144    429   18/03/2022  \n1     141    699   24/09/2021  \n2     174    699   24/09/2021  \n3     204    999   24/09/2021  \n4     240   1199   24/09/2021  ",
      "text/html": "<div>\n<style scoped>\n    .dataframe tbody tr th:only-of-type {\n        vertical-align: middle;\n    }\n\n    .dataframe tbody tr th {\n        vertical-align: top;\n    }\n\n    .dataframe thead th {\n        text-align: right;\n    }\n</style>\n<table border=\"1\" class=\"dataframe\">\n  <thead>\n    <tr style=\"text-align: right;\">\n      <th></th>\n      <th>cellphone_id</th>\n      <th>brand</th>\n      <th>model</th>\n      <th>operating system</th>\n      <th>internal memory</th>\n      <th>RAM</th>\n      <th>performance</th>\n      <th>main camera</th>\n      <th>selfie camera</th>\n      <th>battery size</th>\n      <th>screen size</th>\n      <th>weight</th>\n      <th>price</th>\n      <th>release date</th>\n    </tr>\n  </thead>\n  <tbody>\n    <tr>\n      <th>0</th>\n      <td>0</td>\n      <td>Apple</td>\n      <td>iPhone SE (2022)</td>\n      <td>iOS</td>\n      <td>128</td>\n      <td>4</td>\n      <td>7.23</td>\n      <td>12</td>\n      <td>7</td>\n      <td>2018</td>\n      <td>4.7</td>\n      <td>144</td>\n      <td>429</td>\n      <td>18/03/2022</td>\n    </tr>\n    <tr>\n      <th>1</th>\n      <td>1</td>\n      <td>Apple</td>\n      <td>iPhone 13 Mini</td>\n      <td>iOS</td>\n      <td>128</td>\n      <td>4</td>\n      <td>7.72</td>\n      <td>12</td>\n      <td>12</td>\n      <td>2438</td>\n      <td>5.4</td>\n      <td>141</td>\n      <td>699</td>\n      <td>24/09/2021</td>\n    </tr>\n    <tr>\n      <th>2</th>\n      <td>2</td>\n      <td>Apple</td>\n      <td>iPhone 13</td>\n      <td>iOS</td>\n      <td>128</td>\n      <td>4</td>\n      <td>7.75</td>\n      <td>12</td>\n      <td>12</td>\n      <td>3240</td>\n      <td>6.1</td>\n      <td>174</td>\n      <td>699</td>\n      <td>24/09/2021</td>\n    </tr>\n    <tr>\n      <th>3</th>\n      <td>3</td>\n      <td>Apple</td>\n      <td>iPhone 13 Pro</td>\n      <td>iOS</td>\n      <td>256</td>\n      <td>6</td>\n      <td>7.94</td>\n      <td>12</td>\n      <td>12</td>\n      <td>3065</td>\n      <td>6.1</td>\n      <td>204</td>\n      <td>999</td>\n      <td>24/09/2021</td>\n    </tr>\n    <tr>\n      <th>4</th>\n      <td>4</td>\n      <td>Apple</td>\n      <td>iPhone 13 Pro Max</td>\n      <td>iOS</td>\n      <td>256</td>\n      <td>6</td>\n      <td>8.01</td>\n      <td>12</td>\n      <td>12</td>\n      <td>4352</td>\n      <td>6.7</td>\n      <td>240</td>\n      <td>1199</td>\n      <td>24/09/2021</td>\n    </tr>\n  </tbody>\n</table>\n</div>"
     },
     "execution_count": 3,
     "metadata": {},
     "output_type": "execute_result"
    }
   ],
   "source": [
    "cellphone_df.head(5)"
   ]
  },
  {
   "cell_type": "code",
   "execution_count": 4,
   "metadata": {
    "collapsed": false,
    "jupyter": {
     "outputs_hidden": false
    },
    "ExecuteTime": {
     "end_time": "2023-11-25T03:34:10.460670900Z",
     "start_time": "2023-11-25T03:34:10.400126400Z"
    }
   },
   "outputs": [
    {
     "data": {
      "text/plain": "   user_id  cellphone_id  rating\n0        0            30       1\n1        0             5       3\n2        0            10       9\n3        0             9       3\n4        0            23       2",
      "text/html": "<div>\n<style scoped>\n    .dataframe tbody tr th:only-of-type {\n        vertical-align: middle;\n    }\n\n    .dataframe tbody tr th {\n        vertical-align: top;\n    }\n\n    .dataframe thead th {\n        text-align: right;\n    }\n</style>\n<table border=\"1\" class=\"dataframe\">\n  <thead>\n    <tr style=\"text-align: right;\">\n      <th></th>\n      <th>user_id</th>\n      <th>cellphone_id</th>\n      <th>rating</th>\n    </tr>\n  </thead>\n  <tbody>\n    <tr>\n      <th>0</th>\n      <td>0</td>\n      <td>30</td>\n      <td>1</td>\n    </tr>\n    <tr>\n      <th>1</th>\n      <td>0</td>\n      <td>5</td>\n      <td>3</td>\n    </tr>\n    <tr>\n      <th>2</th>\n      <td>0</td>\n      <td>10</td>\n      <td>9</td>\n    </tr>\n    <tr>\n      <th>3</th>\n      <td>0</td>\n      <td>9</td>\n      <td>3</td>\n    </tr>\n    <tr>\n      <th>4</th>\n      <td>0</td>\n      <td>23</td>\n      <td>2</td>\n    </tr>\n  </tbody>\n</table>\n</div>"
     },
     "execution_count": 4,
     "metadata": {},
     "output_type": "execute_result"
    }
   ],
   "source": [
    "rating_df.head(5)"
   ]
  },
  {
   "cell_type": "code",
   "execution_count": 5,
   "metadata": {
    "collapsed": false,
    "jupyter": {
     "outputs_hidden": false
    },
    "ExecuteTime": {
     "end_time": "2023-11-25T03:34:10.482181700Z",
     "start_time": "2023-11-25T03:34:10.416123500Z"
    }
   },
   "outputs": [
    {
     "data": {
      "text/plain": "   user_id  age  gender         occupation\n0        0   38  Female       Data analyst\n1        1   40  Female  team worker in it\n2        6   55  Female                 IT\n3        8   25  Female            Manager\n4       10   23    Male             worker",
      "text/html": "<div>\n<style scoped>\n    .dataframe tbody tr th:only-of-type {\n        vertical-align: middle;\n    }\n\n    .dataframe tbody tr th {\n        vertical-align: top;\n    }\n\n    .dataframe thead th {\n        text-align: right;\n    }\n</style>\n<table border=\"1\" class=\"dataframe\">\n  <thead>\n    <tr style=\"text-align: right;\">\n      <th></th>\n      <th>user_id</th>\n      <th>age</th>\n      <th>gender</th>\n      <th>occupation</th>\n    </tr>\n  </thead>\n  <tbody>\n    <tr>\n      <th>0</th>\n      <td>0</td>\n      <td>38</td>\n      <td>Female</td>\n      <td>Data analyst</td>\n    </tr>\n    <tr>\n      <th>1</th>\n      <td>1</td>\n      <td>40</td>\n      <td>Female</td>\n      <td>team worker in it</td>\n    </tr>\n    <tr>\n      <th>2</th>\n      <td>6</td>\n      <td>55</td>\n      <td>Female</td>\n      <td>IT</td>\n    </tr>\n    <tr>\n      <th>3</th>\n      <td>8</td>\n      <td>25</td>\n      <td>Female</td>\n      <td>Manager</td>\n    </tr>\n    <tr>\n      <th>4</th>\n      <td>10</td>\n      <td>23</td>\n      <td>Male</td>\n      <td>worker</td>\n    </tr>\n  </tbody>\n</table>\n</div>"
     },
     "execution_count": 5,
     "metadata": {},
     "output_type": "execute_result"
    }
   ],
   "source": [
    "user_df.head(5)"
   ]
  },
  {
   "cell_type": "code",
   "execution_count": 6,
   "metadata": {
    "collapsed": false,
    "jupyter": {
     "outputs_hidden": false
    },
    "ExecuteTime": {
     "end_time": "2023-11-25T03:34:10.552230600Z",
     "start_time": "2023-11-25T03:34:10.433126500Z"
    }
   },
   "outputs": [
    {
     "name": "stdout",
     "output_type": "stream",
     "text": [
      "Jumlah data ponsel selular : 33\n",
      "Jumlah data penilaian pengguna : 990\n",
      "Jumlah data pengguna yang melakukan penilaian : 99\n"
     ]
    }
   ],
   "source": [
    "print(f'Jumlah data ponsel selular :', cellphone_df.cellphone_id.nunique())\n",
    "print(f'Jumlah data penilaian pengguna :', len(rating_df))\n",
    "print(f'Jumlah data pengguna yang melakukan penilaian :', user_df.user_id.nunique())"
   ]
  },
  {
   "cell_type": "code",
   "execution_count": 7,
   "metadata": {
    "collapsed": false,
    "jupyter": {
     "outputs_hidden": false
    },
    "ExecuteTime": {
     "end_time": "2023-11-25T03:34:10.553213500Z",
     "start_time": "2023-11-25T03:34:10.447126100Z"
    }
   },
   "outputs": [
    {
     "name": "stdout",
     "output_type": "stream",
     "text": [
      "<class 'pandas.core.frame.DataFrame'>\n",
      "RangeIndex: 33 entries, 0 to 32\n",
      "Data columns (total 14 columns):\n",
      " #   Column            Non-Null Count  Dtype  \n",
      "---  ------            --------------  -----  \n",
      " 0   cellphone_id      33 non-null     int64  \n",
      " 1   brand             33 non-null     object \n",
      " 2   model             33 non-null     object \n",
      " 3   operating system  33 non-null     object \n",
      " 4   internal memory   33 non-null     int64  \n",
      " 5   RAM               33 non-null     int64  \n",
      " 6   performance       33 non-null     float64\n",
      " 7   main camera       33 non-null     int64  \n",
      " 8   selfie camera     33 non-null     int64  \n",
      " 9   battery size      33 non-null     int64  \n",
      " 10  screen size       33 non-null     float64\n",
      " 11  weight            33 non-null     int64  \n",
      " 12  price             33 non-null     int64  \n",
      " 13  release date      33 non-null     object \n",
      "dtypes: float64(2), int64(8), object(4)\n",
      "memory usage: 3.7+ KB\n"
     ]
    }
   ],
   "source": [
    "cellphone_df.info()"
   ]
  },
  {
   "cell_type": "markdown",
   "metadata": {
    "collapsed": false,
    "jupyter": {
     "outputs_hidden": false
    }
   },
   "source": [
    "Penjelasan Fitur:\n",
    "- **cellphone_id**: nomor indeks unik pada setiap ponsel.\n",
    "- **brand**: merek produsen setiap ponsel.\n",
    "- **model**: tipe spesifik dari ponsel.\n",
    "- **operating system**: sistem operasi pada ponsel.\n",
    "- **internal memory**: ukuran memori internal yang tersedia dalam skala *giga byte* (GB).\n",
    "- **RAM**: ukuran RAM pada ponsel dalam skala *giga byte* (GB).\n",
    "- **performance**: rating performa ponsel berdasarkan skor *AnTuTu*.\n",
    "- **main camera**: resolusi kamera utama (belakang) dalam skala megapiksel (MP).\n",
    "- **selfie camera**: resolusi kamera *selfie* (depan) dalam skala megapiksel (MP).\n",
    "- **battery size**: kapasitas baterai pada ponsel dalam miliamper perjam (mAh).\n",
    "- **screen size**: ukuran ponsel dalam ukuran inci (*inches*).\n",
    "- **weight**: berat ponsel dalam gram (g).\n",
    "- **price**: harga ponsel dalam mata uang dollar (USD).\n",
    "- **release date**: tanggal rilis ponsel\n",
    "\n",
    "Jumlah fitur yang ada sebanyak 14, 8 diantaranya adalah numerik int64, 4 diantaranya adalah object, 2 sisanya adalah float64. Fitur **release date** merupakan kolom yang seharusnya bertipe waktu atau datetime."
   ]
  },
  {
   "cell_type": "code",
   "execution_count": 8,
   "metadata": {
    "collapsed": false,
    "jupyter": {
     "outputs_hidden": false
    },
    "ExecuteTime": {
     "end_time": "2023-11-25T03:34:10.554212900Z",
     "start_time": "2023-11-25T03:34:10.468179200Z"
    }
   },
   "outputs": [
    {
     "name": "stdout",
     "output_type": "stream",
     "text": [
      "Jumlah duplikasi : 0\n",
      "Jumlah missing value : 0\n"
     ]
    }
   ],
   "source": [
    "print(f'Jumlah duplikasi :' ,cellphone_df.duplicated().sum())\n",
    "print('Jumlah missing value :' ,cellphone_df.isnull().sum().sum())"
   ]
  },
  {
   "cell_type": "code",
   "execution_count": 9,
   "outputs": [
    {
     "name": "stdout",
     "output_type": "stream",
     "text": [
      "Unique values in cellphone_id: [ 0  1  2  3  4  5  6  7  8  9 10 11 12 13 14 15 16 17 18 19 20 21 22 23\n",
      " 24 25 26 27 28 29 30 31 32]\n",
      "Unique values in brand: ['Apple' 'Asus' 'Samsung' 'Google' 'OnePlus' 'Oppo' 'Vivo' 'Xiaomi' 'Sony'\n",
      " 'Motorola']\n",
      "Unique values in model: ['iPhone SE (2022)' 'iPhone 13 Mini' 'iPhone 13' 'iPhone 13 Pro'\n",
      " 'iPhone 13 Pro Max' 'iPhone XR' 'Zenfone 8' 'Galaxy A13' 'Galaxy A32'\n",
      " 'Galaxy A53' 'Galaxy S22' 'Galaxy S22 Plus' 'Galaxy S22 Ultra'\n",
      " 'Galaxy Z Flip 3' 'Galaxy Z Fold 3' 'Pixel 6 \\xa0' 'Pixel 6a'\n",
      " 'Pixel 6 Pro\\xa0' 'Nord N20' 'Nord 2T' '10 Pro' '10T' 'Find X5 Pro'\n",
      " 'X80 Pro' 'Redmi Note 11' '11T Pro' '12 Pro' 'Poco F4' 'Xperia Pro'\n",
      " 'Moto G Stylus (2022)' 'Moto G Play (2021)' 'Moto G Pure'\n",
      " 'Moto G Power (2022)']\n",
      "Unique values in operating system: ['iOS' 'Android']\n",
      "Unique values in internal memory: [128 256  64  32 512]\n",
      "Unique values in RAM: [ 4  6  3  8 12]\n",
      "Unique values in performance: [ 7.23  7.72  7.75  7.94  8.01  4.22  6.76  1.36  2.2   3.79  8.81  7.22\n",
      "  9.68  5.96  6.35  6.88  7.19  3.8   6.04  8.86 11.   10.12  9.81  2.44\n",
      "  7.59  9.85  6.98  6.82  2.3   1.42  1.02  1.35]\n",
      "Unique values in main camera: [ 12  64  50  48 108  13]\n",
      "Unique values in selfie camera: [ 7 12  8 13 32 10 40  4 11 16 20  5]\n",
      "Unique values in battery size: [2018 2438 3240 3065 4352 2942 4000 5000 3700 4500 3300 4400 4614 4410\n",
      " 5003 4800 4700 4600]\n",
      "Unique values in screen size: [4.7 5.4 6.1 6.7 5.9 6.6 6.5 6.8 7.6 6.4]\n",
      "Unique values in weight: [144 141 174 204 240 194 169 196 205 189 167 195 228 183 271 207 178 210\n",
      " 173 190 201 218 215 179 225 188 203]\n",
      "Unique values in price: [ 429  699  999 1199  236  599  154  199  312  528  899  840 1799  499\n",
      "  449  299  379  780  649  987  872  174  435  618  428 1998  500  159\n",
      "  129  189]\n",
      "Unique values in release date: ['18/03/2022' '24/09/2021' '26/10/2018' '12/05/2021' '23/03/2022'\n",
      " '22/01/2021' '24/03/2022' '25/02/2022' '11/08/2021' '28/10/2021'\n",
      " '21/07/2021' '28/04/2022' '21/05/2022' '11/01/2022' '06/08/2022'\n",
      " '14/03/2022' '29/04/2022' '09/02/2022' '05/10/2021' '31/12/2021'\n",
      " '27/07/2022' '27/01/2021' '27/04/2022' '14/01/2021' '14/10/2021'\n",
      " '22/02/2022']\n"
     ]
    }
   ],
   "source": [
    "for col in cellphone_df.columns:\n",
    "    unique_values = cellphone_df[col].unique()\n",
    "    print(f\"Unique values in {col}: {unique_values}\")"
   ],
   "metadata": {
    "collapsed": false,
    "ExecuteTime": {
     "end_time": "2023-11-25T03:34:10.554212900Z",
     "start_time": "2023-11-25T03:34:10.481179300Z"
    }
   }
  },
  {
   "cell_type": "markdown",
   "source": [
    "Perlu perbaikan pada fitur model karena terdapat kesalahan penamaan pada beberapa model ponsel."
   ],
   "metadata": {
    "collapsed": false
   }
  },
  {
   "cell_type": "code",
   "execution_count": 10,
   "outputs": [
    {
     "name": "stdout",
     "output_type": "stream",
     "text": [
      "user_id         99\n",
      "cellphone_id    33\n",
      "rating          11\n",
      "dtype: int64\n",
      "----------------------------------------\n",
      "<class 'pandas.core.frame.DataFrame'>\n",
      "RangeIndex: 990 entries, 0 to 989\n",
      "Data columns (total 3 columns):\n",
      " #   Column        Non-Null Count  Dtype\n",
      "---  ------        --------------  -----\n",
      " 0   user_id       990 non-null    int64\n",
      " 1   cellphone_id  990 non-null    int64\n",
      " 2   rating        990 non-null    int64\n",
      "dtypes: int64(3)\n",
      "memory usage: 23.3 KB\n"
     ]
    }
   ],
   "source": [
    "print(rating_df.nunique())\n",
    "print('----------------------------------------')\n",
    "rating_df.info()"
   ],
   "metadata": {
    "collapsed": false,
    "ExecuteTime": {
     "end_time": "2023-11-25T03:34:10.554212900Z",
     "start_time": "2023-11-25T03:34:10.511180Z"
    }
   }
  },
  {
   "cell_type": "markdown",
   "source": [
    "Terdapat 3 kolom pada berkas rating yaitu **user_id** sebagai nomer unik pengguna, **cellphone_id** sebagai nomer unik ponsel yang diberi nilai, dan **rating** sebagai skala nilai ponsel. Semua kolom bertipe numerik. Kolom **rating** memiliki anomali dimana seharusnya terdapat 10 nilai dalam skala 1 hingga 10."
   ],
   "metadata": {
    "collapsed": false
   }
  },
  {
   "cell_type": "code",
   "execution_count": 11,
   "outputs": [
    {
     "name": "stdout",
     "output_type": "stream",
     "text": [
      "[ 1  3  9  2 10  8  7  5  6  4 18]\n"
     ]
    }
   ],
   "source": [
    "print(rating_df['rating'].unique())"
   ],
   "metadata": {
    "collapsed": false,
    "ExecuteTime": {
     "end_time": "2023-11-25T03:34:10.615747400Z",
     "start_time": "2023-11-25T03:34:10.526178Z"
    }
   }
  },
  {
   "cell_type": "code",
   "execution_count": 12,
   "outputs": [
    {
     "data": {
      "text/plain": "     user_id  cellphone_id  rating\n943      254            26      18",
      "text/html": "<div>\n<style scoped>\n    .dataframe tbody tr th:only-of-type {\n        vertical-align: middle;\n    }\n\n    .dataframe tbody tr th {\n        vertical-align: top;\n    }\n\n    .dataframe thead th {\n        text-align: right;\n    }\n</style>\n<table border=\"1\" class=\"dataframe\">\n  <thead>\n    <tr style=\"text-align: right;\">\n      <th></th>\n      <th>user_id</th>\n      <th>cellphone_id</th>\n      <th>rating</th>\n    </tr>\n  </thead>\n  <tbody>\n    <tr>\n      <th>943</th>\n      <td>254</td>\n      <td>26</td>\n      <td>18</td>\n    </tr>\n  </tbody>\n</table>\n</div>"
     },
     "execution_count": 12,
     "metadata": {},
     "output_type": "execute_result"
    }
   ],
   "source": [
    "rating_df[rating_df['rating']== 18]"
   ],
   "metadata": {
    "collapsed": false,
    "ExecuteTime": {
     "end_time": "2023-11-25T03:34:10.626726200Z",
     "start_time": "2023-11-25T03:34:10.541178300Z"
    }
   }
  },
  {
   "cell_type": "markdown",
   "source": [
    "Karena hanya terdapat 1 baris, data ini akan dihapus nantinya."
   ],
   "metadata": {
    "collapsed": false
   }
  },
  {
   "cell_type": "code",
   "execution_count": 13,
   "outputs": [
    {
     "name": "stdout",
     "output_type": "stream",
     "text": [
      "Jumlah duplikasi : 0\n",
      "Jumlah missing value : 0\n"
     ]
    }
   ],
   "source": [
    "print(f'Jumlah duplikasi :' ,rating_df.duplicated().sum())\n",
    "print('Jumlah missing value :' ,rating_df.isnull().sum().sum())"
   ],
   "metadata": {
    "collapsed": false,
    "ExecuteTime": {
     "end_time": "2023-11-25T03:34:10.637725700Z",
     "start_time": "2023-11-25T03:34:10.555214100Z"
    }
   }
  },
  {
   "cell_type": "code",
   "execution_count": 14,
   "outputs": [
    {
     "name": "stdout",
     "output_type": "stream",
     "text": [
      "user_id       99\n",
      "age           30\n",
      "gender         3\n",
      "occupation    56\n",
      "dtype: int64\n",
      "----------------------------------------\n",
      "<class 'pandas.core.frame.DataFrame'>\n",
      "RangeIndex: 99 entries, 0 to 98\n",
      "Data columns (total 4 columns):\n",
      " #   Column      Non-Null Count  Dtype \n",
      "---  ------      --------------  ----- \n",
      " 0   user_id     99 non-null     int64 \n",
      " 1   age         99 non-null     int64 \n",
      " 2   gender      99 non-null     object\n",
      " 3   occupation  98 non-null     object\n",
      "dtypes: int64(2), object(2)\n",
      "memory usage: 3.2+ KB\n"
     ]
    }
   ],
   "source": [
    "print(user_df.nunique())\n",
    "print('----------------------------------------')\n",
    "user_df.info()"
   ],
   "metadata": {
    "collapsed": false,
    "ExecuteTime": {
     "end_time": "2023-11-25T03:34:10.759247300Z",
     "start_time": "2023-11-25T03:34:10.572727700Z"
    }
   }
  },
  {
   "cell_type": "markdown",
   "source": [
    "Kolom **gender** dan **occupation** memiliki tipe data object sedangkan **age** dan **user_id** bertipe data numerik int64. Kolom **gender** seharusnya hanya memiliki dua nilai unik."
   ],
   "metadata": {
    "collapsed": false
   }
  },
  {
   "cell_type": "code",
   "execution_count": 15,
   "outputs": [
    {
     "name": "stdout",
     "output_type": "stream",
     "text": [
      "['Female' 'Male' '-Select Gender-']\n"
     ]
    }
   ],
   "source": [
    "gender_col = user_df['gender'].unique()\n",
    "print(gender_col)"
   ],
   "metadata": {
    "collapsed": false,
    "ExecuteTime": {
     "end_time": "2023-11-25T03:34:10.760247200Z",
     "start_time": "2023-11-25T03:34:10.586730500Z"
    }
   }
  },
  {
   "cell_type": "code",
   "execution_count": 16,
   "outputs": [
    {
     "data": {
      "text/plain": "    user_id  age           gender              occupation\n21       53   38  -Select Gender-                     NaN\n55      144   38  -Select Gender-  ADMINISTRATIVE OFFICER\n64      169   38  -Select Gender-                 Manager",
      "text/html": "<div>\n<style scoped>\n    .dataframe tbody tr th:only-of-type {\n        vertical-align: middle;\n    }\n\n    .dataframe tbody tr th {\n        vertical-align: top;\n    }\n\n    .dataframe thead th {\n        text-align: right;\n    }\n</style>\n<table border=\"1\" class=\"dataframe\">\n  <thead>\n    <tr style=\"text-align: right;\">\n      <th></th>\n      <th>user_id</th>\n      <th>age</th>\n      <th>gender</th>\n      <th>occupation</th>\n    </tr>\n  </thead>\n  <tbody>\n    <tr>\n      <th>21</th>\n      <td>53</td>\n      <td>38</td>\n      <td>-Select Gender-</td>\n      <td>NaN</td>\n    </tr>\n    <tr>\n      <th>55</th>\n      <td>144</td>\n      <td>38</td>\n      <td>-Select Gender-</td>\n      <td>ADMINISTRATIVE OFFICER</td>\n    </tr>\n    <tr>\n      <th>64</th>\n      <td>169</td>\n      <td>38</td>\n      <td>-Select Gender-</td>\n      <td>Manager</td>\n    </tr>\n  </tbody>\n</table>\n</div>"
     },
     "execution_count": 16,
     "metadata": {},
     "output_type": "execute_result"
    }
   ],
   "source": [
    "user_df[user_df['gender']== '-Select Gender-']"
   ],
   "metadata": {
    "collapsed": false,
    "ExecuteTime": {
     "end_time": "2023-11-25T03:34:10.760247200Z",
     "start_time": "2023-11-25T03:34:10.615747400Z"
    }
   }
  },
  {
   "cell_type": "code",
   "execution_count": 17,
   "outputs": [
    {
     "name": "stdout",
     "output_type": "stream",
     "text": [
      "Jumlah duplikasi : 0\n",
      "Jumlah missing value : 1\n"
     ]
    }
   ],
   "source": [
    "print(f'Jumlah duplikasi :' ,user_df.duplicated().sum())\n",
    "print('Jumlah missing value :' ,user_df.isnull().sum().sum())"
   ],
   "metadata": {
    "collapsed": false,
    "ExecuteTime": {
     "end_time": "2023-11-25T03:34:10.760247200Z",
     "start_time": "2023-11-25T03:34:10.620725900Z"
    }
   }
  },
  {
   "cell_type": "markdown",
   "source": [
    "Missing value dan invalid value pada gender akan dihapus pada data preprocessing."
   ],
   "metadata": {
    "collapsed": false
   }
  },
  {
   "cell_type": "markdown",
   "metadata": {
    "collapsed": false,
    "jupyter": {
     "outputs_hidden": false
    }
   },
   "source": [
    "# Data Preprocessing"
   ]
  },
  {
   "cell_type": "code",
   "execution_count": 18,
   "metadata": {
    "collapsed": false,
    "jupyter": {
     "outputs_hidden": false
    },
    "ExecuteTime": {
     "end_time": "2023-11-25T03:34:10.760247200Z",
     "start_time": "2023-11-25T03:34:10.642726300Z"
    }
   },
   "outputs": [],
   "source": [
    "df = pd.merge(rating_df, user_df, on='user_id', how='left')\n",
    "df = pd.merge(df, cellphone_df, on='cellphone_id', how='left')\n",
    "df = df.dropna()\n",
    "df = df[df['gender'] != '-Select Gender-']\n",
    "df = df[df['rating'] != 18]\n",
    "df['occupation'] = df['occupation'].str.lower()\n",
    "df['release_year'] = pd.to_datetime(df['release date'], format='%d/%m/%Y').dt.year\n",
    "df = df.drop(['release date'], axis=1)"
   ]
  },
  {
   "cell_type": "code",
   "execution_count": 19,
   "outputs": [],
   "source": [
    "df['model'] = df['model'].str.replace(r'[\\(\\)\\xa0\\d]+', '').str.strip()\n",
    "df['model'] = df['model'].str.extract(r'([^\\(]*)')[0].str.strip()"
   ],
   "metadata": {
    "collapsed": false,
    "ExecuteTime": {
     "end_time": "2023-11-25T03:34:10.776812700Z",
     "start_time": "2023-11-25T03:34:10.667243Z"
    }
   }
  },
  {
   "cell_type": "code",
   "execution_count": 20,
   "outputs": [
    {
     "name": "stdout",
     "output_type": "stream",
     "text": [
      "['Moto G Play' 'iPhone XR' 'Galaxy S22' 'Galaxy A53' 'X80 Pro'\n",
      " 'Galaxy A32' 'Find X5 Pro' 'Pixel 6a' 'Nord 2T' 'iPhone 13 Pro'\n",
      " 'Galaxy A13' 'Moto G Pure' 'Nord N20' 'Moto G Power' 'Xperia Pro'\n",
      " 'Pixel 6' 'iPhone 13 Pro Max' 'Galaxy Z Flip 3' 'iPhone 13 Mini'\n",
      " 'Poco F4' 'Moto G Stylus' '11T Pro' '10 Pro' 'iPhone SE'\n",
      " 'Galaxy S22 Plus' 'Pixel 6 Pro' '10T' 'Zenfone 8' 'Galaxy Z Fold 3'\n",
      " 'Galaxy S22 Ultra' 'Redmi Note 11' '12 Pro' 'iPhone 13']\n"
     ]
    }
   ],
   "source": [
    "print(df['model'].unique())"
   ],
   "metadata": {
    "collapsed": false,
    "ExecuteTime": {
     "end_time": "2023-11-25T03:34:10.776812700Z",
     "start_time": "2023-11-25T03:34:10.684242800Z"
    }
   }
  },
  {
   "cell_type": "code",
   "execution_count": 21,
   "metadata": {
    "collapsed": false,
    "jupyter": {
     "outputs_hidden": false
    },
    "ExecuteTime": {
     "end_time": "2023-11-25T03:34:10.776812700Z",
     "start_time": "2023-11-25T03:34:10.698245300Z"
    }
   },
   "outputs": [],
   "source": [
    "df['gender'] = df['gender'].map({'Male' : 0, 'Female' : 1})\n",
    "#df['operating system'] = df['operating system'].map({'Android' : 0, 'iOS' : 1})"
   ]
  },
  {
   "cell_type": "code",
   "execution_count": 22,
   "metadata": {
    "collapsed": false,
    "jupyter": {
     "outputs_hidden": false
    },
    "ExecuteTime": {
     "end_time": "2023-11-25T03:34:10.819812900Z",
     "start_time": "2023-11-25T03:34:10.715245800Z"
    }
   },
   "outputs": [
    {
     "data": {
      "text/plain": "   user_id  cellphone_id  rating  age  gender    occupation     brand  \\\n0        0            30       1   38       1  data analyst  Motorola   \n1        0             5       3   38       1  data analyst     Apple   \n2        0            10       9   38       1  data analyst   Samsung   \n3        0             9       3   38       1  data analyst   Samsung   \n4        0            23       2   38       1  data analyst      Vivo   \n\n         model operating system  internal memory  RAM  performance  \\\n0  Moto G Play          Android               32    3         1.42   \n1    iPhone XR              iOS               64    3         4.22   \n2   Galaxy S22          Android              128    8         8.81   \n3   Galaxy A53          Android              128    6         3.79   \n4      X80 Pro          Android              256    8         9.81   \n\n   main camera  selfie camera  battery size  screen size  weight  price  \\\n0           13              5          5000          6.5     204    159   \n1           12              7          2942          6.1     194    236   \n2           50             10          3700          6.1     167    528   \n3           64             32          5000          6.5     189    312   \n4           50             32          4700          6.7     215    872   \n\n   release_year  \n0          2021  \n1          2018  \n2          2022  \n3          2022  \n4          2022  ",
      "text/html": "<div>\n<style scoped>\n    .dataframe tbody tr th:only-of-type {\n        vertical-align: middle;\n    }\n\n    .dataframe tbody tr th {\n        vertical-align: top;\n    }\n\n    .dataframe thead th {\n        text-align: right;\n    }\n</style>\n<table border=\"1\" class=\"dataframe\">\n  <thead>\n    <tr style=\"text-align: right;\">\n      <th></th>\n      <th>user_id</th>\n      <th>cellphone_id</th>\n      <th>rating</th>\n      <th>age</th>\n      <th>gender</th>\n      <th>occupation</th>\n      <th>brand</th>\n      <th>model</th>\n      <th>operating system</th>\n      <th>internal memory</th>\n      <th>RAM</th>\n      <th>performance</th>\n      <th>main camera</th>\n      <th>selfie camera</th>\n      <th>battery size</th>\n      <th>screen size</th>\n      <th>weight</th>\n      <th>price</th>\n      <th>release_year</th>\n    </tr>\n  </thead>\n  <tbody>\n    <tr>\n      <th>0</th>\n      <td>0</td>\n      <td>30</td>\n      <td>1</td>\n      <td>38</td>\n      <td>1</td>\n      <td>data analyst</td>\n      <td>Motorola</td>\n      <td>Moto G Play</td>\n      <td>Android</td>\n      <td>32</td>\n      <td>3</td>\n      <td>1.42</td>\n      <td>13</td>\n      <td>5</td>\n      <td>5000</td>\n      <td>6.5</td>\n      <td>204</td>\n      <td>159</td>\n      <td>2021</td>\n    </tr>\n    <tr>\n      <th>1</th>\n      <td>0</td>\n      <td>5</td>\n      <td>3</td>\n      <td>38</td>\n      <td>1</td>\n      <td>data analyst</td>\n      <td>Apple</td>\n      <td>iPhone XR</td>\n      <td>iOS</td>\n      <td>64</td>\n      <td>3</td>\n      <td>4.22</td>\n      <td>12</td>\n      <td>7</td>\n      <td>2942</td>\n      <td>6.1</td>\n      <td>194</td>\n      <td>236</td>\n      <td>2018</td>\n    </tr>\n    <tr>\n      <th>2</th>\n      <td>0</td>\n      <td>10</td>\n      <td>9</td>\n      <td>38</td>\n      <td>1</td>\n      <td>data analyst</td>\n      <td>Samsung</td>\n      <td>Galaxy S22</td>\n      <td>Android</td>\n      <td>128</td>\n      <td>8</td>\n      <td>8.81</td>\n      <td>50</td>\n      <td>10</td>\n      <td>3700</td>\n      <td>6.1</td>\n      <td>167</td>\n      <td>528</td>\n      <td>2022</td>\n    </tr>\n    <tr>\n      <th>3</th>\n      <td>0</td>\n      <td>9</td>\n      <td>3</td>\n      <td>38</td>\n      <td>1</td>\n      <td>data analyst</td>\n      <td>Samsung</td>\n      <td>Galaxy A53</td>\n      <td>Android</td>\n      <td>128</td>\n      <td>6</td>\n      <td>3.79</td>\n      <td>64</td>\n      <td>32</td>\n      <td>5000</td>\n      <td>6.5</td>\n      <td>189</td>\n      <td>312</td>\n      <td>2022</td>\n    </tr>\n    <tr>\n      <th>4</th>\n      <td>0</td>\n      <td>23</td>\n      <td>2</td>\n      <td>38</td>\n      <td>1</td>\n      <td>data analyst</td>\n      <td>Vivo</td>\n      <td>X80 Pro</td>\n      <td>Android</td>\n      <td>256</td>\n      <td>8</td>\n      <td>9.81</td>\n      <td>50</td>\n      <td>32</td>\n      <td>4700</td>\n      <td>6.7</td>\n      <td>215</td>\n      <td>872</td>\n      <td>2022</td>\n    </tr>\n  </tbody>\n</table>\n</div>"
     },
     "execution_count": 22,
     "metadata": {},
     "output_type": "execute_result"
    }
   ],
   "source": [
    "df.head(5)"
   ]
  },
  {
   "cell_type": "markdown",
   "metadata": {
    "collapsed": false,
    "jupyter": {
     "outputs_hidden": false
    }
   },
   "source": [
    "# Data Visualization"
   ]
  },
  {
   "cell_type": "code",
   "execution_count": 23,
   "metadata": {
    "collapsed": false,
    "jupyter": {
     "outputs_hidden": false
    },
    "ExecuteTime": {
     "end_time": "2023-11-25T03:34:11.027216700Z",
     "start_time": "2023-11-25T03:34:10.730245100Z"
    }
   },
   "outputs": [
    {
     "data": {
      "text/plain": "<Figure size 700x450 with 1 Axes>",
      "image/png": "[encoded data removed]"
     },
     "metadata": {},
     "output_type": "display_data"
    }
   ],
   "source": [
    "# Jumlah Ponsel Setiap Brand Pada Dataset\n",
    "brand_model = cellphone_df.drop_duplicates(subset=['brand', 'model'], keep='first')\n",
    "\n",
    "model_count = brand_model.groupby('brand')['model'].count().reset_index()\n",
    "\n",
    "plt.figure(figsize=(7, 4.5))\n",
    "plt.bar(model_count['brand'], model_count['model'], color='blue')\n",
    "plt.title('Jumlah Ponsel Tiap Brand Pada Dataset', fontsize=14)\n",
    "plt.tight_layout()\n",
    "plt.savefig('jumlah_ponsel_tiap_brand.png')\n",
    "plt.show()"
   ]
  },
  {
   "cell_type": "code",
   "execution_count": 24,
   "metadata": {
    "collapsed": false,
    "jupyter": {
     "outputs_hidden": false
    },
    "ExecuteTime": {
     "end_time": "2023-11-25T03:34:11.220252Z",
     "start_time": "2023-11-25T03:34:10.984199200Z"
    }
   },
   "outputs": [
    {
     "data": {
      "text/plain": "<Figure size 800x500 with 1 Axes>",
      "image/png": "[encoded data removed]"
     },
     "metadata": {},
     "output_type": "display_data"
    }
   ],
   "source": [
    "avg_rating_brand = df.groupby('brand')['rating'].mean().reset_index()\n",
    "\n",
    "avg_rating_brand = avg_rating_brand.sort_values(by='rating', ascending=True)\n",
    "\n",
    "plt.figure(figsize=(8, 5))\n",
    "plt.barh(avg_rating_brand['brand'], avg_rating_brand['rating'], color='magenta')\n",
    "plt.title('Rata-rata Rating Ponsel Tiap Brand', fontsize=14)\n",
    "plt.tight_layout()\n",
    "plt.savefig('rata_rata_rating_tiap_brand.png')\n",
    "plt.show()"
   ]
  },
  {
   "cell_type": "code",
   "execution_count": 25,
   "metadata": {
    "collapsed": false,
    "jupyter": {
     "outputs_hidden": false
    },
    "ExecuteTime": {
     "end_time": "2023-11-25T03:34:11.491395800Z",
     "start_time": "2023-11-25T03:34:11.222251700Z"
    }
   },
   "outputs": [
    {
     "data": {
      "text/plain": "<Figure size 700x600 with 1 Axes>",
      "image/png": "[encoded data removed]"
     },
     "metadata": {},
     "output_type": "display_data"
    }
   ],
   "source": [
    "rating_counts = df['rating'].value_counts().sort_index()\n",
    "\n",
    "plt.figure(figsize=(7,6))\n",
    "plt.bar(rating_counts.index, rating_counts.values, color='cyan')\n",
    "plt.title('Distribusi Rating', fontsize=14)\n",
    "plt.xticks(rating_counts.index)\n",
    "plt.tight_layout()\n",
    "plt.savefig('distribusi_rating.png')\n",
    "plt.show()"
   ]
  },
  {
   "cell_type": "code",
   "execution_count": 26,
   "metadata": {
    "collapsed": false,
    "jupyter": {
     "outputs_hidden": false
    },
    "ExecuteTime": {
     "end_time": "2023-11-25T03:34:11.580905900Z",
     "start_time": "2023-11-25T03:34:11.492396500Z"
    }
   },
   "outputs": [],
   "source": [
    "def wordcl(df, column):\n",
    "    col = str(column)\n",
    "    model_text = ' '.join(df[col])\n",
    "    wordcloud = WordCloud(width=800, height=400, background_color='white').generate(model_text)\n",
    "\n",
    "    plt.figure(figsize=(10, 6))\n",
    "    plt.imshow(wordcloud, interpolation='bilinear')\n",
    "    plt.axis('off')\n",
    "    plt.show()"
   ]
  },
  {
   "cell_type": "code",
   "execution_count": 27,
   "outputs": [
    {
     "data": {
      "text/plain": "<Figure size 1000x600 with 1 Axes>",
      "image/png": "[encoded data removed]"
     },
     "metadata": {},
     "output_type": "display_data"
    }
   ],
   "source": [
    "stopwords = set([\"Pro\", \"Max\", \"Plus\", \"Lite\", \"Ultra\"])\n",
    "model_text = ' '.join([word for word in df['model'] if word not in stopwords])\n",
    "wordcloud = WordCloud(width=800, height=400, background_color='white').generate(model_text)\n",
    "\n",
    "plt.figure(figsize=(10, 6))\n",
    "plt.imshow(wordcloud, interpolation='bilinear')\n",
    "plt.title('Wordcloud Model Ponsel', fontsize=20)\n",
    "plt.axis('off')\n",
    "plt.savefig('wordcloud_model_ponsel.png')\n",
    "plt.show()"
   ],
   "metadata": {
    "collapsed": false,
    "ExecuteTime": {
     "end_time": "2023-11-25T03:34:11.885920300Z",
     "start_time": "2023-11-25T03:34:11.509397300Z"
    }
   }
  },
  {
   "cell_type": "markdown",
   "metadata": {
    "collapsed": false,
    "jupyter": {
     "outputs_hidden": false
    }
   },
   "source": [
    "# Data Preparation"
   ]
  },
  {
   "cell_type": "code",
   "execution_count": 28,
   "metadata": {
    "collapsed": false,
    "jupyter": {
     "outputs_hidden": false
    },
    "ExecuteTime": {
     "end_time": "2023-11-25T03:34:11.971431600Z",
     "start_time": "2023-11-25T03:34:11.888920600Z"
    }
   },
   "outputs": [
    {
     "data": {
      "text/plain": "   user_id  cellphone_id  rating  age  gender    occupation     brand  \\\n0        0            30       1   38       1  data analyst  Motorola   \n1        0             5       3   38       1  data analyst     Apple   \n2        0            10       9   38       1  data analyst   Samsung   \n3        0             9       3   38       1  data analyst   Samsung   \n4        0            23       2   38       1  data analyst      Vivo   \n\n         model operating system  internal memory  RAM  performance  \\\n0  Moto G Play          Android               32    3         1.42   \n1    iPhone XR              iOS               64    3         4.22   \n2   Galaxy S22          Android              128    8         8.81   \n3   Galaxy A53          Android              128    6         3.79   \n4      X80 Pro          Android              256    8         9.81   \n\n   main camera  selfie camera  battery size  screen size  weight  price  \\\n0           13              5          5000          6.5     204    159   \n1           12              7          2942          6.1     194    236   \n2           50             10          3700          6.1     167    528   \n3           64             32          5000          6.5     189    312   \n4           50             32          4700          6.7     215    872   \n\n   release_year  \n0          2021  \n1          2018  \n2          2022  \n3          2022  \n4          2022  ",
      "text/html": "<div>\n<style scoped>\n    .dataframe tbody tr th:only-of-type {\n        vertical-align: middle;\n    }\n\n    .dataframe tbody tr th {\n        vertical-align: top;\n    }\n\n    .dataframe thead th {\n        text-align: right;\n    }\n</style>\n<table border=\"1\" class=\"dataframe\">\n  <thead>\n    <tr style=\"text-align: right;\">\n      <th></th>\n      <th>user_id</th>\n      <th>cellphone_id</th>\n      <th>rating</th>\n      <th>age</th>\n      <th>gender</th>\n      <th>occupation</th>\n      <th>brand</th>\n      <th>model</th>\n      <th>operating system</th>\n      <th>internal memory</th>\n      <th>RAM</th>\n      <th>performance</th>\n      <th>main camera</th>\n      <th>selfie camera</th>\n      <th>battery size</th>\n      <th>screen size</th>\n      <th>weight</th>\n      <th>price</th>\n      <th>release_year</th>\n    </tr>\n  </thead>\n  <tbody>\n    <tr>\n      <th>0</th>\n      <td>0</td>\n      <td>30</td>\n      <td>1</td>\n      <td>38</td>\n      <td>1</td>\n      <td>data analyst</td>\n      <td>Motorola</td>\n      <td>Moto G Play</td>\n      <td>Android</td>\n      <td>32</td>\n      <td>3</td>\n      <td>1.42</td>\n      <td>13</td>\n      <td>5</td>\n      <td>5000</td>\n      <td>6.5</td>\n      <td>204</td>\n      <td>159</td>\n      <td>2021</td>\n    </tr>\n    <tr>\n      <th>1</th>\n      <td>0</td>\n      <td>5</td>\n      <td>3</td>\n      <td>38</td>\n      <td>1</td>\n      <td>data analyst</td>\n      <td>Apple</td>\n      <td>iPhone XR</td>\n      <td>iOS</td>\n      <td>64</td>\n      <td>3</td>\n      <td>4.22</td>\n      <td>12</td>\n      <td>7</td>\n      <td>2942</td>\n      <td>6.1</td>\n      <td>194</td>\n      <td>236</td>\n      <td>2018</td>\n    </tr>\n    <tr>\n      <th>2</th>\n      <td>0</td>\n      <td>10</td>\n      <td>9</td>\n      <td>38</td>\n      <td>1</td>\n      <td>data analyst</td>\n      <td>Samsung</td>\n      <td>Galaxy S22</td>\n      <td>Android</td>\n      <td>128</td>\n      <td>8</td>\n      <td>8.81</td>\n      <td>50</td>\n      <td>10</td>\n      <td>3700</td>\n      <td>6.1</td>\n      <td>167</td>\n      <td>528</td>\n      <td>2022</td>\n    </tr>\n    <tr>\n      <th>3</th>\n      <td>0</td>\n      <td>9</td>\n      <td>3</td>\n      <td>38</td>\n      <td>1</td>\n      <td>data analyst</td>\n      <td>Samsung</td>\n      <td>Galaxy A53</td>\n      <td>Android</td>\n      <td>128</td>\n      <td>6</td>\n      <td>3.79</td>\n      <td>64</td>\n      <td>32</td>\n      <td>5000</td>\n      <td>6.5</td>\n      <td>189</td>\n      <td>312</td>\n      <td>2022</td>\n    </tr>\n    <tr>\n      <th>4</th>\n      <td>0</td>\n      <td>23</td>\n      <td>2</td>\n      <td>38</td>\n      <td>1</td>\n      <td>data analyst</td>\n      <td>Vivo</td>\n      <td>X80 Pro</td>\n      <td>Android</td>\n      <td>256</td>\n      <td>8</td>\n      <td>9.81</td>\n      <td>50</td>\n      <td>32</td>\n      <td>4700</td>\n      <td>6.7</td>\n      <td>215</td>\n      <td>872</td>\n      <td>2022</td>\n    </tr>\n  </tbody>\n</table>\n</div>"
     },
     "execution_count": 28,
     "metadata": {},
     "output_type": "execute_result"
    }
   ],
   "source": [
    "df = df.sort_values('user_id', ascending=True)\n",
    "df.head(5)"
   ]
  },
  {
   "cell_type": "code",
   "execution_count": 29,
   "metadata": {
    "collapsed": false,
    "jupyter": {
     "outputs_hidden": false
    },
    "ExecuteTime": {
     "end_time": "2023-11-25T03:34:11.971431600Z",
     "start_time": "2023-11-25T03:34:11.920920500Z"
    }
   },
   "outputs": [
    {
     "name": "stdout",
     "output_type": "stream",
     "text": [
      "Top Cellphones by Rating and Price:\n",
      "      brand          model  rating  price\n",
      "0  Motorola    Moto G Pure      10    129\n",
      "1   Samsung     Galaxy A13      10    154\n",
      "2    Xiaomi  Redmi Note 11      10    174\n",
      "3     Apple      iPhone XR      10    236\n",
      "4   OnePlus       Nord N20      10    299\n",
      "5    Google       Pixel 6a      10    449\n",
      "6      Asus      Zenfone 8      10    599\n",
      "7      Vivo        X80 Pro      10    872\n",
      "8      Oppo    Find X5 Pro      10    987\n",
      "9      Sony     Xperia Pro      10   1998\n"
     ]
    }
   ],
   "source": [
    "# Ponsel teratas berdasarkan rating dan harga\n",
    "top_cellphones = df.sort_values(by=['rating', 'price'], ascending=[False, True]).drop_duplicates(subset=['brand'], keep='first').reset_index()\n",
    "print(\"Top Cellphones by Rating and Price:\")\n",
    "print(top_cellphones[['brand', 'model', 'rating', 'price']].head(10))"
   ]
  },
  {
   "cell_type": "markdown",
   "source": [
    "## Content Based Filtering"
   ],
   "metadata": {
    "collapsed": false
   }
  },
  {
   "cell_type": "code",
   "execution_count": 30,
   "outputs": [
    {
     "data": {
      "text/plain": "   rating     brand        model operating system  internal memory  RAM  \\\n0       1  Motorola  Moto G Play          Android               32    3   \n1       3     Apple    iPhone XR              iOS               64    3   \n2       9   Samsung   Galaxy S22          Android              128    8   \n3       3   Samsung   Galaxy A53          Android              128    6   \n4       2      Vivo      X80 Pro          Android              256    8   \n\n   performance  main camera  selfie camera  battery size  screen size  weight  \\\n0         1.42           13              5          5000          6.5     204   \n1         4.22           12              7          2942          6.1     194   \n2         8.81           50             10          3700          6.1     167   \n3         3.79           64             32          5000          6.5     189   \n4         9.81           50             32          4700          6.7     215   \n\n   price  release_year  \n0    159          2021  \n1    236          2018  \n2    528          2022  \n3    312          2022  \n4    872          2022  ",
      "text/html": "<div>\n<style scoped>\n    .dataframe tbody tr th:only-of-type {\n        vertical-align: middle;\n    }\n\n    .dataframe tbody tr th {\n        vertical-align: top;\n    }\n\n    .dataframe thead th {\n        text-align: right;\n    }\n</style>\n<table border=\"1\" class=\"dataframe\">\n  <thead>\n    <tr style=\"text-align: right;\">\n      <th></th>\n      <th>rating</th>\n      <th>brand</th>\n      <th>model</th>\n      <th>operating system</th>\n      <th>internal memory</th>\n      <th>RAM</th>\n      <th>performance</th>\n      <th>main camera</th>\n      <th>selfie camera</th>\n      <th>battery size</th>\n      <th>screen size</th>\n      <th>weight</th>\n      <th>price</th>\n      <th>release_year</th>\n    </tr>\n  </thead>\n  <tbody>\n    <tr>\n      <th>0</th>\n      <td>1</td>\n      <td>Motorola</td>\n      <td>Moto G Play</td>\n      <td>Android</td>\n      <td>32</td>\n      <td>3</td>\n      <td>1.42</td>\n      <td>13</td>\n      <td>5</td>\n      <td>5000</td>\n      <td>6.5</td>\n      <td>204</td>\n      <td>159</td>\n      <td>2021</td>\n    </tr>\n    <tr>\n      <th>1</th>\n      <td>3</td>\n      <td>Apple</td>\n      <td>iPhone XR</td>\n      <td>iOS</td>\n      <td>64</td>\n      <td>3</td>\n      <td>4.22</td>\n      <td>12</td>\n      <td>7</td>\n      <td>2942</td>\n      <td>6.1</td>\n      <td>194</td>\n      <td>236</td>\n      <td>2018</td>\n    </tr>\n    <tr>\n      <th>2</th>\n      <td>9</td>\n      <td>Samsung</td>\n      <td>Galaxy S22</td>\n      <td>Android</td>\n      <td>128</td>\n      <td>8</td>\n      <td>8.81</td>\n      <td>50</td>\n      <td>10</td>\n      <td>3700</td>\n      <td>6.1</td>\n      <td>167</td>\n      <td>528</td>\n      <td>2022</td>\n    </tr>\n    <tr>\n      <th>3</th>\n      <td>3</td>\n      <td>Samsung</td>\n      <td>Galaxy A53</td>\n      <td>Android</td>\n      <td>128</td>\n      <td>6</td>\n      <td>3.79</td>\n      <td>64</td>\n      <td>32</td>\n      <td>5000</td>\n      <td>6.5</td>\n      <td>189</td>\n      <td>312</td>\n      <td>2022</td>\n    </tr>\n    <tr>\n      <th>4</th>\n      <td>2</td>\n      <td>Vivo</td>\n      <td>X80 Pro</td>\n      <td>Android</td>\n      <td>256</td>\n      <td>8</td>\n      <td>9.81</td>\n      <td>50</td>\n      <td>32</td>\n      <td>4700</td>\n      <td>6.7</td>\n      <td>215</td>\n      <td>872</td>\n      <td>2022</td>\n    </tr>\n  </tbody>\n</table>\n</div>"
     },
     "execution_count": 30,
     "metadata": {},
     "output_type": "execute_result"
    }
   ],
   "source": [
    "df_prep = df.drop(['user_id','cellphone_id', 'occupation', 'gender', 'age'], axis=1)\n",
    "df_prep.head(5)"
   ],
   "metadata": {
    "collapsed": false,
    "ExecuteTime": {
     "end_time": "2023-11-25T03:34:11.971431600Z",
     "start_time": "2023-11-25T03:34:11.935923Z"
    }
   }
  },
  {
   "cell_type": "code",
   "execution_count": 31,
   "outputs": [
    {
     "name": "stdout",
     "output_type": "stream",
     "text": [
      "0     Android 32 3 13\n",
      "1         iOS 64 3 12\n",
      "2    Android 128 8 50\n",
      "3    Android 128 6 64\n",
      "4    Android 256 8 50\n",
      "Name: combinedFeatures, dtype: object\n"
     ]
    }
   ],
   "source": [
    "fitur = ['operating system', 'internal memory', 'RAM', 'main camera']\n",
    "\n",
    "df_cbf = df_prep.copy()\n",
    "\n",
    "def combine_features(row):\n",
    "    return ' '.join([str(row[feature]) for feature in fitur])\n",
    "\n",
    "df_cbf['combinedFeatures'] = df_cbf.apply(combine_features, axis=1)\n",
    "\n",
    "print(df_cbf['combinedFeatures'].head())"
   ],
   "metadata": {
    "collapsed": false,
    "ExecuteTime": {
     "end_time": "2023-11-25T03:34:11.982728100Z",
     "start_time": "2023-11-25T03:34:11.952925Z"
    }
   }
  },
  {
   "cell_type": "code",
   "execution_count": 32,
   "outputs": [
    {
     "data": {
      "text/plain": "670"
     },
     "execution_count": 32,
     "metadata": {},
     "output_type": "execute_result"
    }
   ],
   "source": [
    "df_cbf.duplicated().sum()"
   ],
   "metadata": {
    "collapsed": false,
    "ExecuteTime": {
     "end_time": "2023-11-25T03:34:12.047725Z",
     "start_time": "2023-11-25T03:34:11.982728100Z"
    }
   }
  },
  {
   "cell_type": "code",
   "execution_count": 33,
   "outputs": [],
   "source": [
    "df_cbf.drop_duplicates(subset=['model'], inplace=True)"
   ],
   "metadata": {
    "collapsed": false,
    "ExecuteTime": {
     "end_time": "2023-11-25T03:34:12.074259800Z",
     "start_time": "2023-11-25T03:34:11.998724900Z"
    }
   }
  },
  {
   "cell_type": "code",
   "execution_count": 34,
   "outputs": [
    {
     "name": "stdout",
     "output_type": "stream",
     "text": [
      "(33, 12)\n",
      "(33, 33)\n"
     ]
    }
   ],
   "source": [
    "cv = CountVectorizer()\n",
    "cv_matrix = cv.fit_transform(df_cbf['combinedFeatures'])\n",
    "print(cv_matrix.shape)\n",
    "\n",
    "similarities_tfidf = cosine_similarity(cv_matrix)\n",
    "print(similarities_tfidf.shape)"
   ],
   "metadata": {
    "collapsed": false,
    "ExecuteTime": {
     "end_time": "2023-11-25T03:34:12.137242100Z",
     "start_time": "2023-11-25T03:34:12.015724400Z"
    }
   }
  },
  {
   "cell_type": "code",
   "execution_count": 35,
   "outputs": [
    {
     "name": "stdout",
     "output_type": "stream",
     "text": [
      "Shape: (33, 33)\n",
      "model          Galaxy A13  Galaxy S22 Plus   X80 Pro    10 Pro\n",
      "model                                                         \n",
      "Galaxy A32       0.333333         0.333333  0.333333  0.666667\n",
      "Find X5 Pro      0.577350         0.577350  0.866025  0.288675\n",
      "Moto G Power     0.666667         0.666667  0.666667  0.333333\n",
      "Moto G Pure      0.666667         0.333333  0.333333  0.333333\n",
      "Moto G Stylus    0.666667         1.000000  0.666667  0.666667\n",
      "Poco F4          0.333333         0.666667  0.333333  0.666667\n",
      "Pixel 6a         0.333333         0.666667  0.333333  0.666667\n",
      "Pixel 6 Pro      0.577350         0.866025  0.577350  0.577350\n"
     ]
    }
   ],
   "source": [
    "cosine_sim_df = pd.DataFrame(similarities_tfidf, index=df_cbf['model'], columns=df_cbf['model'])\n",
    "print('Shape:', cosine_sim_df.shape)\n",
    "\n",
    "print(cosine_sim_df.sample(4, axis=1).sample(8, axis=0))"
   ],
   "metadata": {
    "collapsed": false,
    "ExecuteTime": {
     "end_time": "2023-11-25T03:34:12.137242100Z",
     "start_time": "2023-11-25T03:34:12.031734500Z"
    }
   }
  },
  {
   "cell_type": "markdown",
   "source": [
    "Dataset untuk Content Based Filtering hanya memerlukan fitur-fitur yang berhubungan dengan spesifikasi ponsel."
   ],
   "metadata": {
    "collapsed": false
   }
  },
  {
   "cell_type": "markdown",
   "source": [
    "## Collaborative Filtering"
   ],
   "metadata": {
    "collapsed": false
   }
  },
  {
   "cell_type": "markdown",
   "source": [
    "### Nearest Neighbors"
   ],
   "metadata": {
    "collapsed": false
   }
  },
  {
   "cell_type": "code",
   "execution_count": 36,
   "outputs": [
    {
     "data": {
      "text/plain": "   user_id  cellphone_id  rating  age  gender           occupation     brand  \\\n0        0            30       1   38       1         data analyst  Motorola   \n1       16            30       2   31       1                sales  Motorola   \n2       25            30       5   27       1          team leader  Motorola   \n3       32            30       1   39       0  qa software manager  Motorola   \n4       33            30      10   30       1           healthcare  Motorola   \n\n         model operating system  internal memory  RAM  performance  \\\n0  Moto G Play          Android               32    3         1.42   \n1  Moto G Play          Android               32    3         1.42   \n2  Moto G Play          Android               32    3         1.42   \n3  Moto G Play          Android               32    3         1.42   \n4  Moto G Play          Android               32    3         1.42   \n\n   main camera  selfie camera  battery size  screen size  weight  price  \\\n0           13              5          5000          6.5     204    159   \n1           13              5          5000          6.5     204    159   \n2           13              5          5000          6.5     204    159   \n3           13              5          5000          6.5     204    159   \n4           13              5          5000          6.5     204    159   \n\n   release_year  number of cellphone-rating  \n0          2021                          40  \n1          2021                          40  \n2          2021                          40  \n3          2021                          40  \n4          2021                          40  ",
      "text/html": "<div>\n<style scoped>\n    .dataframe tbody tr th:only-of-type {\n        vertical-align: middle;\n    }\n\n    .dataframe tbody tr th {\n        vertical-align: top;\n    }\n\n    .dataframe thead th {\n        text-align: right;\n    }\n</style>\n<table border=\"1\" class=\"dataframe\">\n  <thead>\n    <tr style=\"text-align: right;\">\n      <th></th>\n      <th>user_id</th>\n      <th>cellphone_id</th>\n      <th>rating</th>\n      <th>age</th>\n      <th>gender</th>\n      <th>occupation</th>\n      <th>brand</th>\n      <th>model</th>\n      <th>operating system</th>\n      <th>internal memory</th>\n      <th>RAM</th>\n      <th>performance</th>\n      <th>main camera</th>\n      <th>selfie camera</th>\n      <th>battery size</th>\n      <th>screen size</th>\n      <th>weight</th>\n      <th>price</th>\n      <th>release_year</th>\n      <th>number of cellphone-rating</th>\n    </tr>\n  </thead>\n  <tbody>\n    <tr>\n      <th>0</th>\n      <td>0</td>\n      <td>30</td>\n      <td>1</td>\n      <td>38</td>\n      <td>1</td>\n      <td>data analyst</td>\n      <td>Motorola</td>\n      <td>Moto G Play</td>\n      <td>Android</td>\n      <td>32</td>\n      <td>3</td>\n      <td>1.42</td>\n      <td>13</td>\n      <td>5</td>\n      <td>5000</td>\n      <td>6.5</td>\n      <td>204</td>\n      <td>159</td>\n      <td>2021</td>\n      <td>40</td>\n    </tr>\n    <tr>\n      <th>1</th>\n      <td>16</td>\n      <td>30</td>\n      <td>2</td>\n      <td>31</td>\n      <td>1</td>\n      <td>sales</td>\n      <td>Motorola</td>\n      <td>Moto G Play</td>\n      <td>Android</td>\n      <td>32</td>\n      <td>3</td>\n      <td>1.42</td>\n      <td>13</td>\n      <td>5</td>\n      <td>5000</td>\n      <td>6.5</td>\n      <td>204</td>\n      <td>159</td>\n      <td>2021</td>\n      <td>40</td>\n    </tr>\n    <tr>\n      <th>2</th>\n      <td>25</td>\n      <td>30</td>\n      <td>5</td>\n      <td>27</td>\n      <td>1</td>\n      <td>team leader</td>\n      <td>Motorola</td>\n      <td>Moto G Play</td>\n      <td>Android</td>\n      <td>32</td>\n      <td>3</td>\n      <td>1.42</td>\n      <td>13</td>\n      <td>5</td>\n      <td>5000</td>\n      <td>6.5</td>\n      <td>204</td>\n      <td>159</td>\n      <td>2021</td>\n      <td>40</td>\n    </tr>\n    <tr>\n      <th>3</th>\n      <td>32</td>\n      <td>30</td>\n      <td>1</td>\n      <td>39</td>\n      <td>0</td>\n      <td>qa software manager</td>\n      <td>Motorola</td>\n      <td>Moto G Play</td>\n      <td>Android</td>\n      <td>32</td>\n      <td>3</td>\n      <td>1.42</td>\n      <td>13</td>\n      <td>5</td>\n      <td>5000</td>\n      <td>6.5</td>\n      <td>204</td>\n      <td>159</td>\n      <td>2021</td>\n      <td>40</td>\n    </tr>\n    <tr>\n      <th>4</th>\n      <td>33</td>\n      <td>30</td>\n      <td>10</td>\n      <td>30</td>\n      <td>1</td>\n      <td>healthcare</td>\n      <td>Motorola</td>\n      <td>Moto G Play</td>\n      <td>Android</td>\n      <td>32</td>\n      <td>3</td>\n      <td>1.42</td>\n      <td>13</td>\n      <td>5</td>\n      <td>5000</td>\n      <td>6.5</td>\n      <td>204</td>\n      <td>159</td>\n      <td>2021</td>\n      <td>40</td>\n    </tr>\n  </tbody>\n</table>\n</div>"
     },
     "execution_count": 36,
     "metadata": {},
     "output_type": "execute_result"
    }
   ],
   "source": [
    "knn_df = df.copy()\n",
    "\n",
    "# Menghitung jumlah rating pada setiap ponsel\n",
    "number_of_ratings = knn_df.groupby('cellphone_id')['rating'].count().reset_index()\n",
    "number_of_ratings.rename(columns={'rating': 'number of cellphone-rating'}, inplace=True)\n",
    "\n",
    "# Menggabungkan data dengan number_of_ratings\n",
    "model_knn_df = knn_df.merge(number_of_ratings, on='cellphone_id')\n",
    "\n",
    "model_knn_df.head(5)"
   ],
   "metadata": {
    "collapsed": false,
    "ExecuteTime": {
     "end_time": "2023-11-25T03:34:12.214781600Z",
     "start_time": "2023-11-25T03:34:12.047725Z"
    }
   }
  },
  {
   "cell_type": "code",
   "execution_count": 37,
   "outputs": [
    {
     "data": {
      "text/plain": "user_id       0    1    6    8    10   12   16   24   25   26   ...  245  246  \\\ncellphone_id                                                    ...             \n0               0    0    0    5    0    0    1    0    0    0  ...    0    8   \n1               0    0    2    0    0    0    0    0    0    0  ...    0    0   \n2               0    0    0    0    0    0    0    0    9    0  ...    6    0   \n3              10   10    0    0    9    0    0   10    0   10  ...    0    0   \n4               0    7    0    0    9    0    0    0    0    9  ...    8    0   \n\nuser_id       251  252  253  254  255  256  257  258  \ncellphone_id                                          \n0               0    0    8    0    0    0    7    0  \n1               0    0    0    5   10    0    0    0  \n2               7    0    0    0    0    7    6    0  \n3               0    0    4    0    0    0    0    0  \n4               8    6    8    0   10    5    8    0  \n\n[5 rows x 96 columns]",
      "text/html": "<div>\n<style scoped>\n    .dataframe tbody tr th:only-of-type {\n        vertical-align: middle;\n    }\n\n    .dataframe tbody tr th {\n        vertical-align: top;\n    }\n\n    .dataframe thead th {\n        text-align: right;\n    }\n</style>\n<table border=\"1\" class=\"dataframe\">\n  <thead>\n    <tr style=\"text-align: right;\">\n      <th>user_id</th>\n      <th>0</th>\n      <th>1</th>\n      <th>6</th>\n      <th>8</th>\n      <th>10</th>\n      <th>12</th>\n      <th>16</th>\n      <th>24</th>\n      <th>25</th>\n      <th>26</th>\n      <th>...</th>\n      <th>245</th>\n      <th>246</th>\n      <th>251</th>\n      <th>252</th>\n      <th>253</th>\n      <th>254</th>\n      <th>255</th>\n      <th>256</th>\n      <th>257</th>\n      <th>258</th>\n    </tr>\n    <tr>\n      <th>cellphone_id</th>\n      <th></th>\n      <th></th>\n      <th></th>\n      <th></th>\n      <th></th>\n      <th></th>\n      <th></th>\n      <th></th>\n      <th></th>\n      <th></th>\n      <th></th>\n      <th></th>\n      <th></th>\n      <th></th>\n      <th></th>\n      <th></th>\n      <th></th>\n      <th></th>\n      <th></th>\n      <th></th>\n      <th></th>\n    </tr>\n  </thead>\n  <tbody>\n    <tr>\n      <th>0</th>\n      <td>0</td>\n      <td>0</td>\n      <td>0</td>\n      <td>5</td>\n      <td>0</td>\n      <td>0</td>\n      <td>1</td>\n      <td>0</td>\n      <td>0</td>\n      <td>0</td>\n      <td>...</td>\n      <td>0</td>\n      <td>8</td>\n      <td>0</td>\n      <td>0</td>\n      <td>8</td>\n      <td>0</td>\n      <td>0</td>\n      <td>0</td>\n      <td>7</td>\n      <td>0</td>\n    </tr>\n    <tr>\n      <th>1</th>\n      <td>0</td>\n      <td>0</td>\n      <td>2</td>\n      <td>0</td>\n      <td>0</td>\n      <td>0</td>\n      <td>0</td>\n      <td>0</td>\n      <td>0</td>\n      <td>0</td>\n      <td>...</td>\n      <td>0</td>\n      <td>0</td>\n      <td>0</td>\n      <td>0</td>\n      <td>0</td>\n      <td>5</td>\n      <td>10</td>\n      <td>0</td>\n      <td>0</td>\n      <td>0</td>\n    </tr>\n    <tr>\n      <th>2</th>\n      <td>0</td>\n      <td>0</td>\n      <td>0</td>\n      <td>0</td>\n      <td>0</td>\n      <td>0</td>\n      <td>0</td>\n      <td>0</td>\n      <td>9</td>\n      <td>0</td>\n      <td>...</td>\n      <td>6</td>\n      <td>0</td>\n      <td>7</td>\n      <td>0</td>\n      <td>0</td>\n      <td>0</td>\n      <td>0</td>\n      <td>7</td>\n      <td>6</td>\n      <td>0</td>\n    </tr>\n    <tr>\n      <th>3</th>\n      <td>10</td>\n      <td>10</td>\n      <td>0</td>\n      <td>0</td>\n      <td>9</td>\n      <td>0</td>\n      <td>0</td>\n      <td>10</td>\n      <td>0</td>\n      <td>10</td>\n      <td>...</td>\n      <td>0</td>\n      <td>0</td>\n      <td>0</td>\n      <td>0</td>\n      <td>4</td>\n      <td>0</td>\n      <td>0</td>\n      <td>0</td>\n      <td>0</td>\n      <td>0</td>\n    </tr>\n    <tr>\n      <th>4</th>\n      <td>0</td>\n      <td>7</td>\n      <td>0</td>\n      <td>0</td>\n      <td>9</td>\n      <td>0</td>\n      <td>0</td>\n      <td>0</td>\n      <td>0</td>\n      <td>9</td>\n      <td>...</td>\n      <td>8</td>\n      <td>0</td>\n      <td>8</td>\n      <td>6</td>\n      <td>8</td>\n      <td>0</td>\n      <td>10</td>\n      <td>5</td>\n      <td>8</td>\n      <td>0</td>\n    </tr>\n  </tbody>\n</table>\n<p>5 rows × 96 columns</p>\n</div>"
     },
     "execution_count": 37,
     "metadata": {},
     "output_type": "execute_result"
    }
   ],
   "source": [
    "model_knn_df_pivot = model_knn_df.pivot_table(columns='user_id', index='cellphone_id', values='rating')\n",
    "model_knn_df_pivot.fillna(0, inplace=True)\n",
    "\n",
    "# Menyesuaikan ukuran matriks\n",
    "model_knn_df_pivot = model_knn_df_pivot.astype(int)\n",
    "\n",
    "model_knn_df_pivot.head(5)"
   ],
   "metadata": {
    "collapsed": false,
    "ExecuteTime": {
     "end_time": "2023-11-25T03:34:12.255761Z",
     "start_time": "2023-11-25T03:34:12.079241200Z"
    }
   }
  },
  {
   "cell_type": "markdown",
   "source": [
    "Dataset diubah menjadi pivot table. Dataset untuk KNN hanya memerlukan fitur-fitur yang berhubungan dengan rating ponsel."
   ],
   "metadata": {
    "collapsed": false
   }
  },
  {
   "cell_type": "markdown",
   "source": [
    "### Deep Learning"
   ],
   "metadata": {
    "collapsed": false
   }
  },
  {
   "cell_type": "code",
   "execution_count": 38,
   "outputs": [
    {
     "name": "stdout",
     "output_type": "stream",
     "text": [
      "Number of users: 96, Number of Books: 33, Min rating: 1.0, Max rating: 10.0\n"
     ]
    }
   ],
   "source": [
    "dl_df = df.copy()\n",
    "\n",
    "# Encode user_id dan cellphone_id\n",
    "user_ids = dl_df[\"user_id\"].unique().tolist()\n",
    "user_to_user_encoded  = {x: i for i, x in enumerate(user_ids)}\n",
    "user_encoded_to_user  = {i: x for i, x in enumerate(user_ids)}\n",
    "\n",
    "cellphone_ids = dl_df[\"cellphone_id\"].unique().tolist()\n",
    "cellphone_to_cellphone_encoded  = {x: i for i, x in enumerate(cellphone_ids)}\n",
    "cellphone_encoded_to_cellphone  = {i: x for i, x in enumerate(cellphone_ids)}\n",
    "\n",
    "dl_df[\"user\"] = dl_df[\"user_id\"].map(user_to_user_encoded)\n",
    "dl_df[\"cellphone\"] = dl_df[\"cellphone_id\"].map(cellphone_to_cellphone_encoded)\n",
    "\n",
    "num_users = len(user_to_user_encoded)\n",
    "num_cellphones = len(cellphone_encoded_to_cellphone)\n",
    "\n",
    "dl_df[\"rating\"] = dl_df[\"rating\"].values.astype(np.float32)\n",
    "\n",
    "min_rating = min(dl_df[\"rating\"])\n",
    "max_rating = max(dl_df[\"rating\"])\n",
    "\n",
    "print(\"Number of users: {}, Number of Books: {}, Min rating: {}, Max rating: {}\".format(num_users, num_cellphones, min_rating, max_rating))"
   ],
   "metadata": {
    "collapsed": false,
    "ExecuteTime": {
     "end_time": "2023-11-25T03:34:12.255761Z",
     "start_time": "2023-11-25T03:34:12.121258400Z"
    }
   }
  },
  {
   "cell_type": "code",
   "execution_count": 39,
   "outputs": [
    {
     "data": {
      "text/plain": "     user_id  cellphone_id  rating  age  gender              occupation  \\\n860      242            24     4.0   35       0               healthare   \n484      126             4     9.0   27       1  information technology   \n366      106            18     5.0   32       0                 manager   \n927      252            25     7.0   58       0  administrative officer   \n884      244            25     9.0   41       0                 manager   \n\n       brand              model operating system  internal memory  ...  \\\n860   Xiaomi      Redmi Note 11          Android              128  ...   \n484    Apple  iPhone 13 Pro Max              iOS              256  ...   \n366  OnePlus           Nord N20          Android              128  ...   \n927   Xiaomi            11T Pro          Android              256  ...   \n884   Xiaomi            11T Pro          Android              256  ...   \n\n     performance  main camera  selfie camera  battery size  screen size  \\\n860         2.44           50             13          5000          6.4   \n484         8.01           12             12          4352          6.7   \n366         3.80           64             16          4500          6.4   \n927         7.59          108             16          5000          6.6   \n884         7.59          108             16          5000          6.6   \n\n     weight  price  release_year  user  cellphone  \n860     179    174          2022    83         30  \n484     240   1199          2021    47         10  \n366     173    299          2022    35         14  \n927     204    435          2021    89         24  \n884     204    435          2021    85         24  \n\n[5 rows x 21 columns]",
      "text/html": "<div>\n<style scoped>\n    .dataframe tbody tr th:only-of-type {\n        vertical-align: middle;\n    }\n\n    .dataframe tbody tr th {\n        vertical-align: top;\n    }\n\n    .dataframe thead th {\n        text-align: right;\n    }\n</style>\n<table border=\"1\" class=\"dataframe\">\n  <thead>\n    <tr style=\"text-align: right;\">\n      <th></th>\n      <th>user_id</th>\n      <th>cellphone_id</th>\n      <th>rating</th>\n      <th>age</th>\n      <th>gender</th>\n      <th>occupation</th>\n      <th>brand</th>\n      <th>model</th>\n      <th>operating system</th>\n      <th>internal memory</th>\n      <th>...</th>\n      <th>performance</th>\n      <th>main camera</th>\n      <th>selfie camera</th>\n      <th>battery size</th>\n      <th>screen size</th>\n      <th>weight</th>\n      <th>price</th>\n      <th>release_year</th>\n      <th>user</th>\n      <th>cellphone</th>\n    </tr>\n  </thead>\n  <tbody>\n    <tr>\n      <th>860</th>\n      <td>242</td>\n      <td>24</td>\n      <td>4.0</td>\n      <td>35</td>\n      <td>0</td>\n      <td>healthare</td>\n      <td>Xiaomi</td>\n      <td>Redmi Note 11</td>\n      <td>Android</td>\n      <td>128</td>\n      <td>...</td>\n      <td>2.44</td>\n      <td>50</td>\n      <td>13</td>\n      <td>5000</td>\n      <td>6.4</td>\n      <td>179</td>\n      <td>174</td>\n      <td>2022</td>\n      <td>83</td>\n      <td>30</td>\n    </tr>\n    <tr>\n      <th>484</th>\n      <td>126</td>\n      <td>4</td>\n      <td>9.0</td>\n      <td>27</td>\n      <td>1</td>\n      <td>information technology</td>\n      <td>Apple</td>\n      <td>iPhone 13 Pro Max</td>\n      <td>iOS</td>\n      <td>256</td>\n      <td>...</td>\n      <td>8.01</td>\n      <td>12</td>\n      <td>12</td>\n      <td>4352</td>\n      <td>6.7</td>\n      <td>240</td>\n      <td>1199</td>\n      <td>2021</td>\n      <td>47</td>\n      <td>10</td>\n    </tr>\n    <tr>\n      <th>366</th>\n      <td>106</td>\n      <td>18</td>\n      <td>5.0</td>\n      <td>32</td>\n      <td>0</td>\n      <td>manager</td>\n      <td>OnePlus</td>\n      <td>Nord N20</td>\n      <td>Android</td>\n      <td>128</td>\n      <td>...</td>\n      <td>3.80</td>\n      <td>64</td>\n      <td>16</td>\n      <td>4500</td>\n      <td>6.4</td>\n      <td>173</td>\n      <td>299</td>\n      <td>2022</td>\n      <td>35</td>\n      <td>14</td>\n    </tr>\n    <tr>\n      <th>927</th>\n      <td>252</td>\n      <td>25</td>\n      <td>7.0</td>\n      <td>58</td>\n      <td>0</td>\n      <td>administrative officer</td>\n      <td>Xiaomi</td>\n      <td>11T Pro</td>\n      <td>Android</td>\n      <td>256</td>\n      <td>...</td>\n      <td>7.59</td>\n      <td>108</td>\n      <td>16</td>\n      <td>5000</td>\n      <td>6.6</td>\n      <td>204</td>\n      <td>435</td>\n      <td>2021</td>\n      <td>89</td>\n      <td>24</td>\n    </tr>\n    <tr>\n      <th>884</th>\n      <td>244</td>\n      <td>25</td>\n      <td>9.0</td>\n      <td>41</td>\n      <td>0</td>\n      <td>manager</td>\n      <td>Xiaomi</td>\n      <td>11T Pro</td>\n      <td>Android</td>\n      <td>256</td>\n      <td>...</td>\n      <td>7.59</td>\n      <td>108</td>\n      <td>16</td>\n      <td>5000</td>\n      <td>6.6</td>\n      <td>204</td>\n      <td>435</td>\n      <td>2021</td>\n      <td>85</td>\n      <td>24</td>\n    </tr>\n  </tbody>\n</table>\n<p>5 rows × 21 columns</p>\n</div>"
     },
     "execution_count": 39,
     "metadata": {},
     "output_type": "execute_result"
    }
   ],
   "source": [
    "model_dl_df = dl_df.sample(frac=1, random_state=42)\n",
    "model_dl_df.head(5)"
   ],
   "metadata": {
    "collapsed": false,
    "ExecuteTime": {
     "end_time": "2023-11-25T03:34:12.255761Z",
     "start_time": "2023-11-25T03:34:12.124241500Z"
    }
   }
  },
  {
   "cell_type": "code",
   "execution_count": 40,
   "outputs": [
    {
     "data": {
      "text/plain": "((671, 2), (288, 2), (671,), (288,))"
     },
     "execution_count": 40,
     "metadata": {},
     "output_type": "execute_result"
    }
   ],
   "source": [
    "x = model_dl_df[[\"user\", \"cellphone\"]].values\n",
    "\n",
    "# Target variable\n",
    "y = model_dl_df[\"rating\"].apply(lambda x: (x - min_rating) / (max_rating - min_rating)).values\n",
    "\n",
    "# Split data menjadi train dan test\n",
    "train_indices = int(0.7 * model_dl_df.shape[0])\n",
    "x_train, x_val, y_train, y_val = (\n",
    "    x[:train_indices],\n",
    "    x[train_indices:],\n",
    "    y[:train_indices],\n",
    "    y[train_indices:],\n",
    ")\n",
    "\n",
    "x_train.shape, x_val.shape, y_train.shape, y_val.shape"
   ],
   "metadata": {
    "collapsed": false,
    "ExecuteTime": {
     "end_time": "2023-11-25T03:34:12.256760800Z",
     "start_time": "2023-11-25T03:34:12.159245700Z"
    }
   }
  },
  {
   "cell_type": "markdown",
   "source": [
    "Dataset untuk Deep Learning hanya memerlukan fitur-fitur yang berhubungan dengan rating ponsel. Dataset akan dibagi sebanyak 70% untuk data training dan 30% untuk data testing."
   ],
   "metadata": {
    "collapsed": false
   }
  },
  {
   "cell_type": "markdown",
   "source": [
    "# Model Development"
   ],
   "metadata": {
    "collapsed": false
   }
  },
  {
   "cell_type": "markdown",
   "source": [
    "## Content Based Filtering"
   ],
   "metadata": {
    "collapsed": false
   }
  },
  {
   "cell_type": "code",
   "execution_count": 41,
   "outputs": [
    {
     "name": "stdout",
     "output_type": "stream",
     "text": [
      "Top 5 Rekomendasi ponsel berdasarkan model 10T:\n",
      "  operating system  internal memory  RAM  main camera            model  score\n",
      "0          Android              128    8           50          Pixel 6    1.0\n",
      "1          Android              128    8           50          Nord 2T    1.0\n",
      "2          Android              128    8           50  Galaxy S22 Plus    1.0\n",
      "3          Android              128    6           50    Moto G Stylus    1.0\n",
      "4          Android              128    8           50           12 Pro    1.0\n"
     ]
    }
   ],
   "source": [
    "def phone_recommendations(model_name, similarity_data=cosine_sim_df, items=df_cbf[fitur + ['model']], k=5):\n",
    "    index = similarity_data.loc[:, model_name].to_numpy().argpartition(range(-1, -k-1, -1))\n",
    "\n",
    "    closest = similarity_data.columns.to_numpy()[index[-1:-(k+2):-1]]\n",
    "\n",
    "    closest = np.ravel(closest)\n",
    "\n",
    "    closest = [phone for phone in closest if phone != model_name]\n",
    "\n",
    "    result_df = pd.DataFrame(closest, columns=['model']).merge(items, on='model').head(k)\n",
    "\n",
    "    similarity_scores = similarity_data.loc[model_name, result_df['model']]\n",
    "    result_df['score'] = similarity_scores.values\n",
    "\n",
    "    return result_df[fitur + ['model', 'score']]\n",
    "\n",
    "model_name = '10T'  # Sesuaikan dengan nama model yang ingin direkomendasikan\n",
    "num_rec = 5  # Jumlah Rekomendasi\n",
    "phone_recommendations_df = phone_recommendations(model_name, k=num_rec)\n",
    "\n",
    "print(f\"Top {num_rec} Rekomendasi ponsel berdasarkan model {model_name}:\")\n",
    "print(phone_recommendations_df)"
   ],
   "metadata": {
    "collapsed": false,
    "ExecuteTime": {
     "end_time": "2023-11-25T03:34:12.334275700Z",
     "start_time": "2023-11-25T03:34:12.171754500Z"
    }
   }
  },
  {
   "cell_type": "code",
   "execution_count": 42,
   "outputs": [
    {
     "name": "stdout",
     "output_type": "stream",
     "text": [
      "10T\n",
      "   operating system  internal memory  RAM  main camera\n",
      "38          Android              128    8           50\n"
     ]
    }
   ],
   "source": [
    "print(model_name)\n",
    "print(df_cbf[df_cbf.model.eq(model_name)][fitur])"
   ],
   "metadata": {
    "collapsed": false,
    "ExecuteTime": {
     "end_time": "2023-11-25T03:34:12.335274600Z",
     "start_time": "2023-11-25T03:34:12.215757300Z"
    }
   }
  },
  {
   "cell_type": "markdown",
   "source": [
    "Fitur untuk content based filtering dapat ditambah maupun dikurangi pada variabel fitur."
   ],
   "metadata": {
    "collapsed": false
   }
  },
  {
   "cell_type": "markdown",
   "source": [
    "Hasil dari Content Based Filtering adalah rekomendasi ponsel berdasarkan fitur-fitur yang dimiliki oleh ponsel yang dipilih."
   ],
   "metadata": {
    "collapsed": false
   }
  },
  {
   "cell_type": "markdown",
   "source": [
    "## Collaborative Filtering"
   ],
   "metadata": {
    "collapsed": false
   }
  },
  {
   "cell_type": "markdown",
   "source": [
    "### Nearest Neighbors"
   ],
   "metadata": {
    "collapsed": false
   }
  },
  {
   "cell_type": "code",
   "execution_count": 43,
   "outputs": [
    {
     "data": {
      "text/plain": "NearestNeighbors(algorithm='brute', metric='cosine')",
      "text/html": "<style>#sk-container-id-1 {color: black;}#sk-container-id-1 pre{padding: 0;}#sk-container-id-1 div.sk-toggleable {background-color: white;}#sk-container-id-1 label.sk-toggleable__label {cursor: pointer;display: block;width: 100%;margin-bottom: 0;padding: 0.3em;box-sizing: border-box;text-align: center;}#sk-container-id-1 label.sk-toggleable__label-arrow:before {content: \"▸\";float: left;margin-right: 0.25em;color: #696969;}#sk-container-id-1 label.sk-toggleable__label-arrow:hover:before {color: black;}#sk-container-id-1 div.sk-estimator:hover label.sk-toggleable__label-arrow:before {color: black;}#sk-container-id-1 div.sk-toggleable__content {max-height: 0;max-width: 0;overflow: hidden;text-align: left;background-color: #f0f8ff;}#sk-container-id-1 div.sk-toggleable__content pre {margin: 0.2em;color: black;border-radius: 0.25em;background-color: #f0f8ff;}#sk-container-id-1 input.sk-toggleable__control:checked~div.sk-toggleable__content {max-height: 200px;max-width: 100%;overflow: auto;}#sk-container-id-1 input.sk-toggleable__control:checked~label.sk-toggleable__label-arrow:before {content: \"▾\";}#sk-container-id-1 div.sk-estimator input.sk-toggleable__control:checked~label.sk-toggleable__label {background-color: #d4ebff;}#sk-container-id-1 div.sk-label input.sk-toggleable__control:checked~label.sk-toggleable__label {background-color: #d4ebff;}#sk-container-id-1 input.sk-hidden--visually {border: 0;clip: rect(1px 1px 1px 1px);clip: rect(1px, 1px, 1px, 1px);height: 1px;margin: -1px;overflow: hidden;padding: 0;position: absolute;width: 1px;}#sk-container-id-1 div.sk-estimator {font-family: monospace;background-color: #f0f8ff;border: 1px dotted black;border-radius: 0.25em;box-sizing: border-box;margin-bottom: 0.5em;}#sk-container-id-1 div.sk-estimator:hover {background-color: #d4ebff;}#sk-container-id-1 div.sk-parallel-item::after {content: \"\";width: 100%;border-bottom: 1px solid gray;flex-grow: 1;}#sk-container-id-1 div.sk-label:hover label.sk-toggleable__label {background-color: #d4ebff;}#sk-container-id-1 div.sk-serial::before {content: \"\";position: absolute;border-left: 1px solid gray;box-sizing: border-box;top: 0;bottom: 0;left: 50%;z-index: 0;}#sk-container-id-1 div.sk-serial {display: flex;flex-direction: column;align-items: center;background-color: white;padding-right: 0.2em;padding-left: 0.2em;position: relative;}#sk-container-id-1 div.sk-item {position: relative;z-index: 1;}#sk-container-id-1 div.sk-parallel {display: flex;align-items: stretch;justify-content: center;background-color: white;position: relative;}#sk-container-id-1 div.sk-item::before, #sk-container-id-1 div.sk-parallel-item::before {content: \"\";position: absolute;border-left: 1px solid gray;box-sizing: border-box;top: 0;bottom: 0;left: 50%;z-index: -1;}#sk-container-id-1 div.sk-parallel-item {display: flex;flex-direction: column;z-index: 1;position: relative;background-color: white;}#sk-container-id-1 div.sk-parallel-item:first-child::after {align-self: flex-end;width: 50%;}#sk-container-id-1 div.sk-parallel-item:last-child::after {align-self: flex-start;width: 50%;}#sk-container-id-1 div.sk-parallel-item:only-child::after {width: 0;}#sk-container-id-1 div.sk-dashed-wrapped {border: 1px dashed gray;margin: 0 0.4em 0.5em 0.4em;box-sizing: border-box;padding-bottom: 0.4em;background-color: white;}#sk-container-id-1 div.sk-label label {font-family: monospace;font-weight: bold;display: inline-block;line-height: 1.2em;}#sk-container-id-1 div.sk-label-container {text-align: center;}#sk-container-id-1 div.sk-container {/* jupyter's `normalize.less` sets `[hidden] { display: none; }` but bootstrap.min.css set `[hidden] { display: none !important; }` so we also need the `!important` here to be able to override the default hidden behavior on the sphinx rendered scikit-learn.org. See: https://github.com/scikit-learn/scikit-learn/issues/21755 */display: inline-block !important;position: relative;}#sk-container-id-1 div.sk-text-repr-fallback {display: none;}</style><div id=\"sk-container-id-1\" class=\"sk-top-container\"><div class=\"sk-text-repr-fallback\"><pre>NearestNeighbors(algorithm=&#x27;brute&#x27;, metric=&#x27;cosine&#x27;)</pre><b>In a Jupyter environment, please rerun this cell to show the HTML representation or trust the notebook. <br />On GitHub, the HTML representation is unable to render, please try loading this page with nbviewer.org.</b></div><div class=\"sk-container\" hidden><div class=\"sk-item\"><div class=\"sk-estimator sk-toggleable\"><input class=\"sk-toggleable__control sk-hidden--visually\" id=\"sk-estimator-id-1\" type=\"checkbox\" checked><label for=\"sk-estimator-id-1\" class=\"sk-toggleable__label sk-toggleable__label-arrow\">NearestNeighbors</label><div class=\"sk-toggleable__content\"><pre>NearestNeighbors(algorithm=&#x27;brute&#x27;, metric=&#x27;cosine&#x27;)</pre></div></div></div></div></div>"
     },
     "execution_count": 43,
     "metadata": {},
     "output_type": "execute_result"
    }
   ],
   "source": [
    "# Inisialisasi model KNN\n",
    "model_knn_cellphone = NearestNeighbors(metric='cosine', algorithm='brute')\n",
    "model_knn_cellphone.fit(model_knn_df_pivot)"
   ],
   "metadata": {
    "collapsed": false,
    "ExecuteTime": {
     "end_time": "2023-11-25T03:34:12.500135300Z",
     "start_time": "2023-11-25T03:34:12.220756900Z"
    }
   }
  },
  {
   "cell_type": "code",
   "execution_count": 44,
   "outputs": [
    {
     "data": {
      "text/plain": "0"
     },
     "execution_count": 44,
     "metadata": {},
     "output_type": "execute_result"
    }
   ],
   "source": [
    "cellphone_df_name = pd.DataFrame({'Cellphone': model_knn_df_pivot.index})\n",
    "\n",
    "cellphone_df_name.duplicated().sum()"
   ],
   "metadata": {
    "collapsed": false,
    "ExecuteTime": {
     "end_time": "2023-11-25T03:34:12.623762Z",
     "start_time": "2023-11-25T03:34:12.254761Z"
    }
   }
  },
  {
   "cell_type": "code",
   "execution_count": 45,
   "outputs": [],
   "source": [
    "# Fungsi untuk mendapatkan rekomendasi\n",
    "def recommend_cellphone(cellphone_name):\n",
    "    cellphone_id = np.where(model_knn_df_pivot.index == cellphone_name)[0][0]\n",
    "    distances, recommendations = model_knn_cellphone.kneighbors(model_knn_df_pivot.iloc[cellphone_id, :].values.reshape(1, -1), n_neighbors=11)\n",
    "\n",
    "    cellphone = []\n",
    "    distance = []\n",
    "\n",
    "    for i in range(0, len(distances.flatten())):\n",
    "        if i != 0:\n",
    "            recommended_cellphone_id = model_knn_df_pivot.index[recommendations.flatten()[i]]\n",
    "            recommended_cellphone_name = model_knn_df[model_knn_df['cellphone_id'] == recommended_cellphone_id]['model'].values[0]\n",
    "            cellphone.append(recommended_cellphone_name)\n",
    "            distance.append(distances.flatten()[i])\n",
    "\n",
    "    c = pd.Series(cellphone, name='cellphone')\n",
    "    d = pd.Series(distance, name='distance')\n",
    "    recommendations_df = pd.concat([c, d], axis=1)\n",
    "    recommendations_df = recommendations_df.sort_values('distance', ascending=False)\n",
    "\n",
    "    print(f'10 Rekomendasi untuk ponsel {model_knn_df[model_knn_df[\"cellphone_id\"] == cellphone_name][\"model\"].values[0]} sebagai berikut :\\n')\n",
    "    for i in range(0, recommendations_df.shape[0]):\n",
    "        print('{0}: {1}, with distance of {2}'.format(i, recommendations_df[\"cellphone\"].iloc[i], recommendations_df[\"distance\"].iloc[i]))"
   ],
   "metadata": {
    "collapsed": false,
    "ExecuteTime": {
     "end_time": "2023-11-25T03:34:12.624761700Z",
     "start_time": "2023-11-25T03:34:12.301274400Z"
    }
   }
  },
  {
   "cell_type": "code",
   "execution_count": 46,
   "outputs": [
    {
     "name": "stdout",
     "output_type": "stream",
     "text": [
      "10 Rekomendasi untuk ponsel Xperia Pro sebagai berikut :\n",
      "\n",
      "0: Nord N20, with distance of 0.7391863503412192\n",
      "1: Find X5 Pro, with distance of 0.7221312781196743\n",
      "2: 10T, with distance of 0.706235262124101\n",
      "3: Redmi Note 11, with distance of 0.6847865811144636\n",
      "4: Moto G Pure, with distance of 0.6800465276651233\n",
      "5: Pixel 6a, with distance of 0.6640232136428437\n",
      "6: Moto G Play, with distance of 0.6449885098433434\n",
      "7: Pixel 6, with distance of 0.620879067430839\n",
      "8: X80 Pro, with distance of 0.5922716936733281\n",
      "9: Galaxy A13, with distance of 0.5309814131625528\n"
     ]
    }
   ],
   "source": [
    "cellphone_name = cellphone_df_name.iloc[28][0]\n",
    "recommend_cellphone(cellphone_name)"
   ],
   "metadata": {
    "collapsed": false,
    "ExecuteTime": {
     "end_time": "2023-11-25T03:34:12.624761700Z",
     "start_time": "2023-11-25T03:34:12.316274400Z"
    }
   }
  },
  {
   "cell_type": "markdown",
   "source": [
    "Collaborative Filtering menggunakan metode Nearest Neighbors untuk mendapatkan rekomendasi ponsel berdasarkan rating yang diberikan oleh pengguna."
   ],
   "metadata": {
    "collapsed": false
   }
  },
  {
   "cell_type": "markdown",
   "source": [
    "### Deep Learning"
   ],
   "metadata": {
    "collapsed": false
   }
  },
  {
   "cell_type": "code",
   "execution_count": 47,
   "outputs": [],
   "source": [
    "# Recommender system deep learning\n",
    "class RecommenderNet(tf.keras.Model):\n",
    "    def __init__(self, num_users, num_cellphones, embedding_size, **kwargs):\n",
    "        super(RecommenderNet, self).__init__(**kwargs)\n",
    "        self.num_users = num_users\n",
    "        self.num_cellphones = num_cellphones\n",
    "        self.embedding_size = embedding_size\n",
    "        self.user_embedding = tf.keras.layers.Embedding(\n",
    "            num_users,\n",
    "            embedding_size,\n",
    "            embeddings_initializer=\"he_normal\",\n",
    "            embeddings_regularizer=tf.keras.regularizers.l2(1e-6),\n",
    "        )\n",
    "        self.user_bias = tf.keras.layers.Embedding(num_users, 1)\n",
    "        self.cellphone_embedding = tf.keras.layers.Embedding(\n",
    "            num_cellphones,\n",
    "            embedding_size,\n",
    "            embeddings_initializer=\"he_normal\",\n",
    "            embeddings_regularizer=tf.keras.regularizers.l2(1e-6),\n",
    "        )\n",
    "        self.cellphone_bias = tf.keras.layers.Embedding(num_cellphones, 1)\n",
    "\n",
    "    def call(self, inputs):\n",
    "        user_vector = self.user_embedding(inputs[:, 0])\n",
    "        user_bias = self.user_bias(inputs[:, 0])\n",
    "        cellphone_vector = self.cellphone_embedding(inputs[:, 1])\n",
    "        cellphone_bias = self.cellphone_bias(inputs[:, 1])\n",
    "        dot_user_cellphone = tf.tensordot(user_vector, cellphone_vector, 2)\n",
    "        # Add all the components (including bias)\n",
    "        x = dot_user_cellphone + user_bias + cellphone_bias\n",
    "        # The sigmoid activation forces the rating to between 0 and 1\n",
    "        return tf.nn.sigmoid(x)"
   ],
   "metadata": {
    "collapsed": false,
    "ExecuteTime": {
     "end_time": "2023-11-25T03:34:12.624761700Z",
     "start_time": "2023-11-25T03:34:12.334275700Z"
    }
   }
  },
  {
   "cell_type": "code",
   "execution_count": 48,
   "outputs": [],
   "source": [
    "model = RecommenderNet(num_users, num_cellphones, 50)\n",
    "\n",
    "model.compile(\n",
    "    loss = tf.keras.losses.BinaryCrossentropy(),\n",
    "    optimizer = tf.keras.optimizers.Adam(learning_rate=0.001),\n",
    "    metrics=[tf.keras.metrics.RootMeanSquaredError()]\n",
    ")"
   ],
   "metadata": {
    "collapsed": false,
    "ExecuteTime": {
     "end_time": "2023-11-25T03:34:15.248079500Z",
     "start_time": "2023-11-25T03:34:12.347273800Z"
    }
   }
  },
  {
   "cell_type": "code",
   "execution_count": 49,
   "outputs": [
    {
     "name": "stdout",
     "output_type": "stream",
     "text": [
      "Epoch 1/100\n",
      "84/84 [==============================] - 5s 14ms/step - loss: 0.7244 - root_mean_squared_error: 0.3440 - val_loss: 0.7464 - val_root_mean_squared_error: 0.3390\n",
      "Epoch 2/100\n",
      "84/84 [==============================] - 1s 11ms/step - loss: 0.7129 - root_mean_squared_error: 0.3347 - val_loss: 0.7445 - val_root_mean_squared_error: 0.3371\n",
      "Epoch 3/100\n",
      "84/84 [==============================] - 1s 11ms/step - loss: 0.6807 - root_mean_squared_error: 0.3120 - val_loss: 0.7423 - val_root_mean_squared_error: 0.3354\n",
      "Epoch 4/100\n",
      "84/84 [==============================] - 1s 10ms/step - loss: 0.6856 - root_mean_squared_error: 0.3154 - val_loss: 0.7415 - val_root_mean_squared_error: 0.3342\n",
      "Epoch 5/100\n",
      "84/84 [==============================] - 1s 11ms/step - loss: 0.6657 - root_mean_squared_error: 0.3011 - val_loss: 0.7401 - val_root_mean_squared_error: 0.3332\n",
      "Epoch 6/100\n",
      "84/84 [==============================] - 1s 11ms/step - loss: 0.6578 - root_mean_squared_error: 0.2961 - val_loss: 0.7389 - val_root_mean_squared_error: 0.3322\n",
      "Epoch 7/100\n",
      "84/84 [==============================] - 1s 10ms/step - loss: 0.6522 - root_mean_squared_error: 0.2908 - val_loss: 0.7386 - val_root_mean_squared_error: 0.3319\n",
      "Epoch 8/100\n",
      "84/84 [==============================] - 1s 10ms/step - loss: 0.6479 - root_mean_squared_error: 0.2884 - val_loss: 0.7351 - val_root_mean_squared_error: 0.3298\n",
      "Epoch 9/100\n",
      "84/84 [==============================] - 1s 11ms/step - loss: 0.6420 - root_mean_squared_error: 0.2829 - val_loss: 0.7321 - val_root_mean_squared_error: 0.3278\n",
      "Epoch 10/100\n",
      "84/84 [==============================] - 1s 12ms/step - loss: 0.6394 - root_mean_squared_error: 0.2804 - val_loss: 0.7308 - val_root_mean_squared_error: 0.3267\n",
      "Epoch 11/100\n",
      "84/84 [==============================] - 1s 10ms/step - loss: 0.6381 - root_mean_squared_error: 0.2800 - val_loss: 0.7287 - val_root_mean_squared_error: 0.3254\n",
      "Epoch 12/100\n",
      "84/84 [==============================] - 1s 11ms/step - loss: 0.6312 - root_mean_squared_error: 0.2743 - val_loss: 0.7261 - val_root_mean_squared_error: 0.3232\n",
      "Epoch 13/100\n",
      "84/84 [==============================] - 1s 10ms/step - loss: 0.6318 - root_mean_squared_error: 0.2752 - val_loss: 0.7247 - val_root_mean_squared_error: 0.3224\n",
      "Epoch 14/100\n",
      "84/84 [==============================] - 1s 10ms/step - loss: 0.6222 - root_mean_squared_error: 0.2666 - val_loss: 0.7244 - val_root_mean_squared_error: 0.3216\n",
      "Epoch 15/100\n",
      "84/84 [==============================] - 1s 11ms/step - loss: 0.6126 - root_mean_squared_error: 0.2589 - val_loss: 0.7225 - val_root_mean_squared_error: 0.3201\n",
      "Epoch 16/100\n",
      "84/84 [==============================] - 1s 11ms/step - loss: 0.6181 - root_mean_squared_error: 0.2636 - val_loss: 0.7231 - val_root_mean_squared_error: 0.3204\n",
      "Epoch 17/100\n",
      "84/84 [==============================] - 1s 11ms/step - loss: 0.6060 - root_mean_squared_error: 0.2531 - val_loss: 0.7222 - val_root_mean_squared_error: 0.3195\n",
      "Epoch 18/100\n",
      "84/84 [==============================] - 1s 10ms/step - loss: 0.6043 - root_mean_squared_error: 0.2512 - val_loss: 0.7223 - val_root_mean_squared_error: 0.3195\n",
      "Epoch 19/100\n",
      "84/84 [==============================] - 1s 10ms/step - loss: 0.6041 - root_mean_squared_error: 0.2512 - val_loss: 0.7207 - val_root_mean_squared_error: 0.3184\n",
      "Epoch 20/100\n",
      "84/84 [==============================] - 1s 11ms/step - loss: 0.5999 - root_mean_squared_error: 0.2476 - val_loss: 0.7201 - val_root_mean_squared_error: 0.3180\n",
      "Epoch 21/100\n",
      "84/84 [==============================] - 1s 11ms/step - loss: 0.6018 - root_mean_squared_error: 0.2491 - val_loss: 0.7187 - val_root_mean_squared_error: 0.3172\n",
      "Epoch 22/100\n",
      "84/84 [==============================] - 1s 11ms/step - loss: 0.5955 - root_mean_squared_error: 0.2436 - val_loss: 0.7175 - val_root_mean_squared_error: 0.3164\n",
      "Epoch 23/100\n",
      "84/84 [==============================] - 1s 10ms/step - loss: 0.5944 - root_mean_squared_error: 0.2424 - val_loss: 0.7176 - val_root_mean_squared_error: 0.3163\n",
      "Epoch 24/100\n",
      "84/84 [==============================] - 1s 10ms/step - loss: 0.6004 - root_mean_squared_error: 0.2478 - val_loss: 0.7183 - val_root_mean_squared_error: 0.3165\n",
      "Epoch 25/100\n",
      "84/84 [==============================] - 1s 10ms/step - loss: 0.5938 - root_mean_squared_error: 0.2420 - val_loss: 0.7188 - val_root_mean_squared_error: 0.3165\n",
      "Epoch 26/100\n",
      "84/84 [==============================] - 1s 10ms/step - loss: 0.5901 - root_mean_squared_error: 0.2381 - val_loss: 0.7184 - val_root_mean_squared_error: 0.3162\n",
      "Epoch 27/100\n",
      "84/84 [==============================] - 1s 10ms/step - loss: 0.5871 - root_mean_squared_error: 0.2356 - val_loss: 0.7162 - val_root_mean_squared_error: 0.3148\n",
      "Epoch 28/100\n",
      "84/84 [==============================] - 1s 10ms/step - loss: 0.5851 - root_mean_squared_error: 0.2335 - val_loss: 0.7148 - val_root_mean_squared_error: 0.3137\n",
      "Epoch 29/100\n",
      "84/84 [==============================] - 1s 11ms/step - loss: 0.5911 - root_mean_squared_error: 0.2392 - val_loss: 0.7142 - val_root_mean_squared_error: 0.3130\n",
      "Epoch 30/100\n",
      "84/84 [==============================] - 1s 10ms/step - loss: 0.5849 - root_mean_squared_error: 0.2336 - val_loss: 0.7147 - val_root_mean_squared_error: 0.3133\n",
      "Epoch 31/100\n",
      "84/84 [==============================] - 1s 10ms/step - loss: 0.5852 - root_mean_squared_error: 0.2332 - val_loss: 0.7126 - val_root_mean_squared_error: 0.3119\n",
      "Epoch 32/100\n",
      "84/84 [==============================] - 1s 10ms/step - loss: 0.5795 - root_mean_squared_error: 0.2278 - val_loss: 0.7120 - val_root_mean_squared_error: 0.3114\n",
      "Epoch 33/100\n",
      "84/84 [==============================] - 1s 11ms/step - loss: 0.5797 - root_mean_squared_error: 0.2284 - val_loss: 0.7109 - val_root_mean_squared_error: 0.3105\n",
      "Epoch 34/100\n",
      "84/84 [==============================] - 1s 11ms/step - loss: 0.5800 - root_mean_squared_error: 0.2286 - val_loss: 0.7100 - val_root_mean_squared_error: 0.3101\n",
      "Epoch 35/100\n",
      "84/84 [==============================] - 1s 10ms/step - loss: 0.5805 - root_mean_squared_error: 0.2291 - val_loss: 0.7098 - val_root_mean_squared_error: 0.3099\n",
      "Epoch 36/100\n",
      "84/84 [==============================] - 1s 10ms/step - loss: 0.5778 - root_mean_squared_error: 0.2263 - val_loss: 0.7085 - val_root_mean_squared_error: 0.3088\n",
      "Epoch 37/100\n",
      "84/84 [==============================] - 1s 11ms/step - loss: 0.5763 - root_mean_squared_error: 0.2249 - val_loss: 0.7081 - val_root_mean_squared_error: 0.3085\n",
      "Epoch 38/100\n",
      "84/84 [==============================] - 1s 10ms/step - loss: 0.5734 - root_mean_squared_error: 0.2220 - val_loss: 0.7076 - val_root_mean_squared_error: 0.3082\n",
      "Epoch 39/100\n",
      "84/84 [==============================] - 1s 11ms/step - loss: 0.5759 - root_mean_squared_error: 0.2247 - val_loss: 0.7071 - val_root_mean_squared_error: 0.3077\n",
      "Epoch 40/100\n",
      "84/84 [==============================] - 1s 10ms/step - loss: 0.5715 - root_mean_squared_error: 0.2205 - val_loss: 0.7066 - val_root_mean_squared_error: 0.3071\n",
      "Epoch 41/100\n",
      "84/84 [==============================] - 1s 11ms/step - loss: 0.5702 - root_mean_squared_error: 0.2190 - val_loss: 0.7052 - val_root_mean_squared_error: 0.3062\n",
      "Epoch 42/100\n",
      "84/84 [==============================] - 1s 10ms/step - loss: 0.5664 - root_mean_squared_error: 0.2160 - val_loss: 0.7048 - val_root_mean_squared_error: 0.3058\n",
      "Epoch 43/100\n",
      "84/84 [==============================] - 1s 11ms/step - loss: 0.5709 - root_mean_squared_error: 0.2198 - val_loss: 0.7055 - val_root_mean_squared_error: 0.3060\n",
      "Epoch 44/100\n",
      "84/84 [==============================] - 1s 10ms/step - loss: 0.5687 - root_mean_squared_error: 0.2170 - val_loss: 0.7045 - val_root_mean_squared_error: 0.3054\n",
      "Epoch 45/100\n",
      "84/84 [==============================] - 1s 9ms/step - loss: 0.5692 - root_mean_squared_error: 0.2182 - val_loss: 0.7055 - val_root_mean_squared_error: 0.3059\n",
      "Epoch 46/100\n",
      "84/84 [==============================] - 1s 9ms/step - loss: 0.5692 - root_mean_squared_error: 0.2185 - val_loss: 0.7038 - val_root_mean_squared_error: 0.3046\n",
      "Epoch 47/100\n",
      "84/84 [==============================] - 1s 7ms/step - loss: 0.5633 - root_mean_squared_error: 0.2125 - val_loss: 0.7037 - val_root_mean_squared_error: 0.3045\n",
      "Epoch 48/100\n",
      "84/84 [==============================] - 1s 7ms/step - loss: 0.5662 - root_mean_squared_error: 0.2151 - val_loss: 0.7028 - val_root_mean_squared_error: 0.3036\n",
      "Epoch 49/100\n",
      "84/84 [==============================] - 1s 8ms/step - loss: 0.5677 - root_mean_squared_error: 0.2171 - val_loss: 0.7028 - val_root_mean_squared_error: 0.3036\n",
      "Epoch 50/100\n",
      "84/84 [==============================] - 1s 7ms/step - loss: 0.5676 - root_mean_squared_error: 0.2173 - val_loss: 0.7041 - val_root_mean_squared_error: 0.3045\n",
      "Epoch 51/100\n",
      "84/84 [==============================] - 1s 6ms/step - loss: 0.5651 - root_mean_squared_error: 0.2137 - val_loss: 0.7041 - val_root_mean_squared_error: 0.3041\n",
      "Epoch 52/100\n",
      "84/84 [==============================] - 1s 6ms/step - loss: 0.5666 - root_mean_squared_error: 0.2157 - val_loss: 0.7044 - val_root_mean_squared_error: 0.3045\n",
      "Epoch 53/100\n",
      "84/84 [==============================] - 1s 7ms/step - loss: 0.5645 - root_mean_squared_error: 0.2142 - val_loss: 0.7040 - val_root_mean_squared_error: 0.3041\n",
      "Epoch 54/100\n",
      "84/84 [==============================] - 1s 7ms/step - loss: 0.5607 - root_mean_squared_error: 0.2103 - val_loss: 0.7049 - val_root_mean_squared_error: 0.3046\n",
      "Epoch 55/100\n",
      "84/84 [==============================] - 1s 6ms/step - loss: 0.5633 - root_mean_squared_error: 0.2124 - val_loss: 0.7045 - val_root_mean_squared_error: 0.3042\n",
      "Epoch 56/100\n",
      "84/84 [==============================] - 1s 6ms/step - loss: 0.5652 - root_mean_squared_error: 0.2143 - val_loss: 0.7043 - val_root_mean_squared_error: 0.3040\n",
      "Epoch 57/100\n",
      "84/84 [==============================] - 1s 7ms/step - loss: 0.5646 - root_mean_squared_error: 0.2140 - val_loss: 0.7022 - val_root_mean_squared_error: 0.3027\n",
      "Epoch 58/100\n",
      "84/84 [==============================] - 1s 6ms/step - loss: 0.5599 - root_mean_squared_error: 0.2097 - val_loss: 0.7013 - val_root_mean_squared_error: 0.3022\n",
      "Epoch 59/100\n",
      "84/84 [==============================] - 1s 6ms/step - loss: 0.5612 - root_mean_squared_error: 0.2111 - val_loss: 0.7020 - val_root_mean_squared_error: 0.3024\n",
      "Epoch 60/100\n",
      "84/84 [==============================] - 1s 6ms/step - loss: 0.5636 - root_mean_squared_error: 0.2134 - val_loss: 0.7006 - val_root_mean_squared_error: 0.3016\n",
      "Epoch 61/100\n",
      "84/84 [==============================] - 1s 7ms/step - loss: 0.5635 - root_mean_squared_error: 0.2131 - val_loss: 0.7014 - val_root_mean_squared_error: 0.3019\n",
      "Epoch 62/100\n",
      "84/84 [==============================] - 1s 6ms/step - loss: 0.5624 - root_mean_squared_error: 0.2117 - val_loss: 0.7009 - val_root_mean_squared_error: 0.3016\n",
      "Epoch 63/100\n",
      "84/84 [==============================] - 1s 7ms/step - loss: 0.5601 - root_mean_squared_error: 0.2093 - val_loss: 0.7016 - val_root_mean_squared_error: 0.3022\n",
      "Epoch 64/100\n",
      "84/84 [==============================] - 1s 6ms/step - loss: 0.5652 - root_mean_squared_error: 0.2154 - val_loss: 0.6991 - val_root_mean_squared_error: 0.3007\n",
      "Epoch 65/100\n",
      "84/84 [==============================] - 1s 7ms/step - loss: 0.5628 - root_mean_squared_error: 0.2120 - val_loss: 0.6986 - val_root_mean_squared_error: 0.3002\n",
      "Epoch 66/100\n",
      "84/84 [==============================] - 1s 6ms/step - loss: 0.5577 - root_mean_squared_error: 0.2068 - val_loss: 0.6971 - val_root_mean_squared_error: 0.2992\n",
      "Epoch 67/100\n",
      "84/84 [==============================] - 1s 6ms/step - loss: 0.5584 - root_mean_squared_error: 0.2078 - val_loss: 0.6969 - val_root_mean_squared_error: 0.2988\n",
      "Epoch 68/100\n",
      "84/84 [==============================] - 1s 7ms/step - loss: 0.5566 - root_mean_squared_error: 0.2056 - val_loss: 0.6970 - val_root_mean_squared_error: 0.2989\n",
      "Epoch 69/100\n",
      "84/84 [==============================] - 1s 7ms/step - loss: 0.5570 - root_mean_squared_error: 0.2062 - val_loss: 0.6979 - val_root_mean_squared_error: 0.2992\n",
      "Epoch 70/100\n",
      "84/84 [==============================] - 1s 7ms/step - loss: 0.5580 - root_mean_squared_error: 0.2083 - val_loss: 0.6980 - val_root_mean_squared_error: 0.2992\n",
      "Epoch 71/100\n",
      "84/84 [==============================] - 1s 6ms/step - loss: 0.5605 - root_mean_squared_error: 0.2107 - val_loss: 0.6988 - val_root_mean_squared_error: 0.2997\n",
      "Epoch 72/100\n",
      "84/84 [==============================] - 1s 7ms/step - loss: 0.5621 - root_mean_squared_error: 0.2130 - val_loss: 0.6999 - val_root_mean_squared_error: 0.3001\n",
      "Epoch 73/100\n",
      "84/84 [==============================] - 1s 6ms/step - loss: 0.5568 - root_mean_squared_error: 0.2062 - val_loss: 0.6990 - val_root_mean_squared_error: 0.2993\n",
      "Epoch 74/100\n",
      "84/84 [==============================] - 1s 6ms/step - loss: 0.5559 - root_mean_squared_error: 0.2046 - val_loss: 0.6981 - val_root_mean_squared_error: 0.2987\n",
      "Epoch 75/100\n",
      "84/84 [==============================] - 1s 6ms/step - loss: 0.5540 - root_mean_squared_error: 0.2036 - val_loss: 0.6964 - val_root_mean_squared_error: 0.2976\n",
      "Epoch 76/100\n",
      "84/84 [==============================] - 1s 6ms/step - loss: 0.5547 - root_mean_squared_error: 0.2050 - val_loss: 0.6958 - val_root_mean_squared_error: 0.2971\n",
      "Epoch 77/100\n",
      "84/84 [==============================] - 1s 6ms/step - loss: 0.5534 - root_mean_squared_error: 0.2023 - val_loss: 0.6957 - val_root_mean_squared_error: 0.2970\n",
      "Epoch 78/100\n",
      "84/84 [==============================] - 1s 6ms/step - loss: 0.5577 - root_mean_squared_error: 0.2083 - val_loss: 0.6957 - val_root_mean_squared_error: 0.2974\n",
      "Epoch 79/100\n",
      "84/84 [==============================] - 1s 7ms/step - loss: 0.5483 - root_mean_squared_error: 0.1982 - val_loss: 0.6948 - val_root_mean_squared_error: 0.2967\n",
      "Epoch 80/100\n",
      "84/84 [==============================] - 1s 6ms/step - loss: 0.5533 - root_mean_squared_error: 0.2029 - val_loss: 0.6948 - val_root_mean_squared_error: 0.2963\n",
      "Epoch 81/100\n",
      "84/84 [==============================] - 1s 7ms/step - loss: 0.5585 - root_mean_squared_error: 0.2088 - val_loss: 0.6931 - val_root_mean_squared_error: 0.2952\n",
      "Epoch 82/100\n",
      "84/84 [==============================] - 1s 6ms/step - loss: 0.5545 - root_mean_squared_error: 0.2059 - val_loss: 0.6938 - val_root_mean_squared_error: 0.2955\n",
      "Epoch 83/100\n",
      "84/84 [==============================] - 1s 7ms/step - loss: 0.5495 - root_mean_squared_error: 0.1999 - val_loss: 0.6930 - val_root_mean_squared_error: 0.2949\n",
      "Epoch 84/100\n",
      "84/84 [==============================] - 1s 7ms/step - loss: 0.5525 - root_mean_squared_error: 0.2020 - val_loss: 0.6955 - val_root_mean_squared_error: 0.2965\n",
      "Epoch 85/100\n",
      "84/84 [==============================] - 1s 6ms/step - loss: 0.5528 - root_mean_squared_error: 0.2031 - val_loss: 0.6957 - val_root_mean_squared_error: 0.2967\n",
      "Epoch 86/100\n",
      "84/84 [==============================] - 1s 7ms/step - loss: 0.5534 - root_mean_squared_error: 0.2037 - val_loss: 0.6952 - val_root_mean_squared_error: 0.2960\n",
      "Epoch 87/100\n",
      "84/84 [==============================] - 1s 7ms/step - loss: 0.5510 - root_mean_squared_error: 0.2008 - val_loss: 0.6940 - val_root_mean_squared_error: 0.2951\n",
      "Epoch 88/100\n",
      "84/84 [==============================] - 1s 7ms/step - loss: 0.5511 - root_mean_squared_error: 0.2014 - val_loss: 0.6930 - val_root_mean_squared_error: 0.2945\n",
      "Epoch 89/100\n",
      "84/84 [==============================] - 1s 6ms/step - loss: 0.5542 - root_mean_squared_error: 0.2033 - val_loss: 0.6936 - val_root_mean_squared_error: 0.2946\n",
      "Epoch 90/100\n",
      "84/84 [==============================] - 1s 7ms/step - loss: 0.5509 - root_mean_squared_error: 0.2016 - val_loss: 0.6921 - val_root_mean_squared_error: 0.2938\n",
      "Epoch 91/100\n",
      "84/84 [==============================] - 1s 7ms/step - loss: 0.5528 - root_mean_squared_error: 0.2034 - val_loss: 0.6916 - val_root_mean_squared_error: 0.2935\n",
      "Epoch 92/100\n",
      "84/84 [==============================] - 1s 7ms/step - loss: 0.5508 - root_mean_squared_error: 0.2010 - val_loss: 0.6929 - val_root_mean_squared_error: 0.2941\n",
      "Epoch 93/100\n",
      "84/84 [==============================] - 1s 6ms/step - loss: 0.5511 - root_mean_squared_error: 0.2017 - val_loss: 0.6913 - val_root_mean_squared_error: 0.2933\n",
      "Epoch 94/100\n",
      "84/84 [==============================] - 1s 7ms/step - loss: 0.5527 - root_mean_squared_error: 0.2031 - val_loss: 0.6916 - val_root_mean_squared_error: 0.2934\n",
      "Epoch 95/100\n",
      "84/84 [==============================] - 0s 6ms/step - loss: 0.5525 - root_mean_squared_error: 0.2037 - val_loss: 0.6908 - val_root_mean_squared_error: 0.2926\n",
      "Epoch 96/100\n",
      "84/84 [==============================] - 1s 7ms/step - loss: 0.5568 - root_mean_squared_error: 0.2075 - val_loss: 0.6934 - val_root_mean_squared_error: 0.2945\n",
      "Epoch 97/100\n",
      "84/84 [==============================] - 1s 7ms/step - loss: 0.5507 - root_mean_squared_error: 0.2007 - val_loss: 0.6928 - val_root_mean_squared_error: 0.2942\n",
      "Epoch 98/100\n",
      "84/84 [==============================] - 1s 7ms/step - loss: 0.5504 - root_mean_squared_error: 0.2010 - val_loss: 0.6923 - val_root_mean_squared_error: 0.2940\n",
      "Epoch 99/100\n",
      "84/84 [==============================] - 1s 7ms/step - loss: 0.5516 - root_mean_squared_error: 0.2019 - val_loss: 0.6929 - val_root_mean_squared_error: 0.2944\n",
      "Epoch 100/100\n",
      "84/84 [==============================] - 1s 7ms/step - loss: 0.5535 - root_mean_squared_error: 0.2040 - val_loss: 0.6932 - val_root_mean_squared_error: 0.2944\n"
     ]
    }
   ],
   "source": [
    "history = model.fit(\n",
    "    x=x_train,\n",
    "    y=y_train,\n",
    "    batch_size=8,\n",
    "    epochs=100,\n",
    "    verbose=1,\n",
    "    validation_data=(x_val, y_val),\n",
    ")"
   ],
   "metadata": {
    "collapsed": false,
    "ExecuteTime": {
     "end_time": "2023-11-25T03:35:29.832769Z",
     "start_time": "2023-11-25T03:34:15.246074400Z"
    }
   }
  },
  {
   "cell_type": "code",
   "execution_count": 50,
   "outputs": [
    {
     "data": {
      "text/plain": "926"
     },
     "execution_count": 50,
     "metadata": {},
     "output_type": "execute_result"
    }
   ],
   "source": [
    "# Pembuatan dataframe untuk ponsel\n",
    "phone_df = pd.DataFrame({\n",
    "    'cellphone_id': dl_df['cellphone_id'],\n",
    "    'Model': dl_df['model'],\n",
    "    'Brand': dl_df['brand'],\n",
    "})\n",
    "\n",
    "phone_df.duplicated().sum()"
   ],
   "metadata": {
    "collapsed": false,
    "ExecuteTime": {
     "end_time": "2023-11-25T03:35:29.893779700Z",
     "start_time": "2023-11-25T03:35:29.834764200Z"
    }
   }
  },
  {
   "cell_type": "code",
   "execution_count": 51,
   "outputs": [],
   "source": [
    "phone_df.drop_duplicates(inplace=True)"
   ],
   "metadata": {
    "collapsed": false,
    "ExecuteTime": {
     "end_time": "2023-11-25T03:35:29.911802500Z",
     "start_time": "2023-11-25T03:35:29.849762200Z"
    }
   }
  },
  {
   "cell_type": "code",
   "execution_count": 52,
   "outputs": [
    {
     "data": {
      "text/plain": "   cellphone_id        Model     Brand\n0            30  Moto G Play  Motorola\n1             5    iPhone XR     Apple\n2            10   Galaxy S22   Samsung\n3             9   Galaxy A53   Samsung\n4            23      X80 Pro      Vivo",
      "text/html": "<div>\n<style scoped>\n    .dataframe tbody tr th:only-of-type {\n        vertical-align: middle;\n    }\n\n    .dataframe tbody tr th {\n        vertical-align: top;\n    }\n\n    .dataframe thead th {\n        text-align: right;\n    }\n</style>\n<table border=\"1\" class=\"dataframe\">\n  <thead>\n    <tr style=\"text-align: right;\">\n      <th></th>\n      <th>cellphone_id</th>\n      <th>Model</th>\n      <th>Brand</th>\n    </tr>\n  </thead>\n  <tbody>\n    <tr>\n      <th>0</th>\n      <td>30</td>\n      <td>Moto G Play</td>\n      <td>Motorola</td>\n    </tr>\n    <tr>\n      <th>1</th>\n      <td>5</td>\n      <td>iPhone XR</td>\n      <td>Apple</td>\n    </tr>\n    <tr>\n      <th>2</th>\n      <td>10</td>\n      <td>Galaxy S22</td>\n      <td>Samsung</td>\n    </tr>\n    <tr>\n      <th>3</th>\n      <td>9</td>\n      <td>Galaxy A53</td>\n      <td>Samsung</td>\n    </tr>\n    <tr>\n      <th>4</th>\n      <td>23</td>\n      <td>X80 Pro</td>\n      <td>Vivo</td>\n    </tr>\n  </tbody>\n</table>\n</div>"
     },
     "execution_count": 52,
     "metadata": {},
     "output_type": "execute_result"
    }
   ],
   "source": [
    "phone_df.head(5)"
   ],
   "metadata": {
    "collapsed": false,
    "ExecuteTime": {
     "end_time": "2023-11-25T03:35:29.911802500Z",
     "start_time": "2023-11-25T03:35:29.865769500Z"
    }
   }
  },
  {
   "cell_type": "code",
   "execution_count": 53,
   "outputs": [],
   "source": [
    "# Top rekomendasi ponsel untuk random user\n",
    "user_id = dl_df.user_id.sample(10).iloc[0]\n",
    "cellphones_rated_by_user = dl_df[dl_df.user_id == user_id]\n",
    "cellphones_not_rated = phone_df[~phone_df['cellphone_id'].isin(cellphones_rated_by_user.cellphone_id.values)]['cellphone_id']\n",
    "cellphones_not_rated = list(\n",
    "    set(cellphones_not_rated).intersection(set(dl_df['cellphone_id']))\n",
    ")\n",
    "\n",
    "cellphones_not_rated = [[cellphone_to_cellphone_encoded.get(x)] for x in cellphones_not_rated]\n",
    "\n",
    "user_encoder = user_to_user_encoded.get(user_id)\n",
    "\n",
    "user_cellphone_array = np.hstack(\n",
    "    ([[user_encoder]] * len(cellphones_not_rated), cellphones_not_rated)\n",
    ")"
   ],
   "metadata": {
    "collapsed": false,
    "ExecuteTime": {
     "end_time": "2023-11-25T03:35:29.912801200Z",
     "start_time": "2023-11-25T03:35:29.882768100Z"
    }
   }
  },
  {
   "cell_type": "code",
   "execution_count": 54,
   "outputs": [
    {
     "name": "stdout",
     "output_type": "stream",
     "text": [
      "1/1 [==============================] - 0s 105ms/step\n"
     ]
    }
   ],
   "source": [
    "ratings = model.predict(user_cellphone_array).flatten()"
   ],
   "metadata": {
    "collapsed": false,
    "ExecuteTime": {
     "end_time": "2023-11-25T03:35:30.093159400Z",
     "start_time": "2023-11-25T03:35:29.900767600Z"
    }
   }
  },
  {
   "cell_type": "code",
   "execution_count": 55,
   "outputs": [
    {
     "name": "stdout",
     "output_type": "stream",
     "text": [
      "Showing recommendations for user: 255\n",
      "====================================\n",
      "Cellphones with high ratings from user\n",
      "--------------------------------\n",
      "iPhone 13 Pro Max : Apple\n",
      "Galaxy Z Flip 3 : Samsung\n",
      "11T Pro : Xiaomi\n",
      "Galaxy Z Fold 3 : Samsung\n",
      "Zenfone 8 : Asus\n",
      "--------------------------------\n",
      "Top 10 Cellphones recommendations\n",
      "--------------------------------\n",
      "iPhone XR : Apple\n",
      "Galaxy S22 : Samsung\n",
      "X80 Pro : Vivo\n",
      "Find X5 Pro : Oppo\n",
      "iPhone 13 Pro : Apple\n",
      "Pixel 6 : Google\n",
      "Xperia Pro : Sony\n",
      "Pixel 6 Pro : Google\n",
      "10 Pro : OnePlus\n",
      "iPhone 13 : Apple\n"
     ]
    }
   ],
   "source": [
    "top_ratings_indices = ratings.argsort()[-10:][::-1]\n",
    "\n",
    "recommended_cellphone_ids = [\n",
    "    cellphone_encoded_to_cellphone.get(cellphones_not_rated[x][0]) for x in top_ratings_indices\n",
    "]\n",
    "\n",
    "print(\"Showing recommendations for user: {}\".format(user_id))\n",
    "print(\"====\" * 9)\n",
    "print(\"Cellphones with high ratings from user\")\n",
    "print(\"----\" * 8)\n",
    "\n",
    "top_cellphones_user = (\n",
    "    cellphones_rated_by_user.sort_values(\n",
    "        by='rating',\n",
    "        ascending=False)\n",
    "    .head(5)\n",
    "    .cellphone_id.values\n",
    ")\n",
    "\n",
    "cellphone_df_rows_user = phone_df[phone_df[\"cellphone_id\"].isin(top_cellphones_user)]\n",
    "for row in cellphone_df_rows_user.itertuples():\n",
    "    print(row.Model, \":\", row.Brand)\n",
    "\n",
    "print(\"----\" * 8)\n",
    "print(\"Top 10 Cellphones recommendations\")\n",
    "print(\"----\" * 8)\n",
    "\n",
    "recommended_cellphones = phone_df[phone_df[\"cellphone_id\"].isin(recommended_cellphone_ids)]\n",
    "for row in recommended_cellphones.itertuples():\n",
    "    print(row.Model, \":\", row.Brand)"
   ],
   "metadata": {
    "collapsed": false,
    "ExecuteTime": {
     "end_time": "2023-11-25T03:35:30.093159400Z",
     "start_time": "2023-11-25T03:35:30.054156800Z"
    }
   }
  },
  {
   "cell_type": "markdown",
   "metadata": {
    "collapsed": false,
    "jupyter": {
     "outputs_hidden": false
    }
   },
   "source": [
    "# Model Evaluation"
   ]
  },
  {
   "cell_type": "markdown",
   "source": [
    "## Collaborative Filtering Deep Learning"
   ],
   "metadata": {
    "collapsed": false
   }
  },
  {
   "cell_type": "code",
   "execution_count": 56,
   "metadata": {
    "collapsed": false,
    "jupyter": {
     "outputs_hidden": false
    },
    "ExecuteTime": {
     "end_time": "2023-11-25T03:35:30.301428700Z",
     "start_time": "2023-11-25T03:35:30.070159600Z"
    }
   },
   "outputs": [
    {
     "data": {
      "text/plain": "<Figure size 640x480 with 1 Axes>",
      "image/png": "[encoded data removed]"
     },
     "metadata": {},
     "output_type": "display_data"
    }
   ],
   "source": [
    "plt.plot(history.history['root_mean_squared_error'])\n",
    "plt.plot(history.history['val_root_mean_squared_error'])\n",
    "plt.title('Model Metrics', fontsize=15)\n",
    "plt.ylabel('Root Mean Squared Error')\n",
    "plt.xlabel('Epoch')\n",
    "plt.legend(['train', 'test'], loc='upper left')\n",
    "plt.savefig('figure.png')\n",
    "plt.show()"
   ]
  },
  {
   "cell_type": "code",
   "execution_count": 57,
   "outputs": [
    {
     "name": "stdout",
     "output_type": "stream",
     "text": [
      "30/30 [==============================] - 0s 3ms/step - loss: 0.7726 - root_mean_squared_error: 0.3281\n"
     ]
    },
    {
     "data": {
      "text/plain": "[0.7725903987884521, 0.32812440395355225]"
     },
     "execution_count": 57,
     "metadata": {},
     "output_type": "execute_result"
    }
   ],
   "source": [
    "model.evaluate(x,y)"
   ],
   "metadata": {
    "collapsed": false,
    "ExecuteTime": {
     "end_time": "2023-11-25T03:35:30.632762200Z",
     "start_time": "2023-11-25T03:35:30.293329900Z"
    }
   }
  },
  {
   "cell_type": "markdown",
   "source": [
    "Pada pembuatan proyek ini metrik evaluasi yang digunakan yaitu root mean squared error (RMSE). Dari proses ini, kita memperoleh nilai error akhir sebesar sekitar 0.2040 dan error pada data validasi sebesar 0.2944. Nilai tersebut cukup bagus untuk sistem rekomendasi.\n",
    "\n",
    "Setelah dilakukan evaluasi menggunakan seluruh data memperoleh nilai error sebesar 0.3281."
   ],
   "metadata": {
    "collapsed": false
   }
  }
 ],
 "metadata": {
  "kernelspec": {
   "display_name": "Python 3 (ipykernel)",
   "language": "python",
   "name": "python3"
  },
  "language_info": {
   "codemirror_mode": {
    "name": "ipython",
    "version": 3
   },
   "file_extension": ".py",
   "mimetype": "text/x-python",
   "name": "python",
   "nbconvert_exporter": "python",
   "pygments_lexer": "ipython3",
   "version": "3.10.11"
  }
 },
 "nbformat": 4,
 "nbformat_minor": 4
}
